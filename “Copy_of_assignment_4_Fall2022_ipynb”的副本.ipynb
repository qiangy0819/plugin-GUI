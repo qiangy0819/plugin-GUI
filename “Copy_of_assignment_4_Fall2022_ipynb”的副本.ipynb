{
  "cells": [
    {
      "cell_type": "markdown",
      "metadata": {
        "id": "view-in-github",
        "colab_type": "text"
      },
      "source": [
        "<a href=\"https://colab.research.google.com/github/qiangy0819/plugin-GUI/blob/master/%E2%80%9CCopy_of_assignment_4_Fall2022_ipynb%E2%80%9D%E7%9A%84%E5%89%AF%E6%9C%AC.ipynb\" target=\"_parent\"><img src=\"https://colab.research.google.com/assets/colab-badge.svg\" alt=\"Open In Colab\"/></a>"
      ]
    },
    {
      "cell_type": "markdown",
      "metadata": {
        "id": "Dd0qJjGWPDEY"
      },
      "source": [
        "# **ENGS 108 Fall 2022 Assignment 4**\n",
        "\n",
        "*Due October 11, 2022 at 11:59PM on Github*\n",
        "\n",
        "**Instructors:** George Cybenko\n",
        "\n",
        "**TAs:** Chase Yakaboski and Clement Nyanhongo\n",
        "\n",
        "\n",
        "---\n",
        "\n",
        "## **Rules and Requirements**\n",
        "\n",
        "\n",
        "1.   You are only allowed to use Python packages that are explicity imported in \n",
        "the assignment notebook or are standard (bultin) python libraries like random, os, sys, etc, (Standard Bultin Python libraries will have a Python.org documentation). For this assignment you may use:\n",
        "  *   [numpy](https://numpy.org/doc/stable/)\n",
        "  *   [pandas](https://pandas.pydata.org/pandas-docs/stable/index.html)\n",
        "  *   [scikit-learn](https://scikit-learn.org/stable/)\n",
        "  *   [matplotlib](https://matplotlib.org/)\n",
        "  *   [tensorflow](https://www.tensorflow.org/)\n",
        "\n",
        "2.   All code must be fit into the designated code or text blocks in the assignment notebook. They are indentified by a **TODO** qualifier.\n",
        "\n",
        "3. For analytical questions that don't require code, type your answer cleanly in Markdown. For help, see the [Google Colab Markdown Guide](https://colab.research.google.com/notebooks/markdown_guide.ipynb).\n",
        "\n",
        "---\n"
      ]
    },
    {
      "cell_type": "code",
      "execution_count": 1,
      "metadata": {
        "id": "AD5eAz9acxe9"
      },
      "outputs": [],
      "source": [
        "''' Import Statements '''\n",
        "import os\n",
        "import csv\n",
        "import json\n",
        "import pickle\n",
        "import tqdm\n",
        "import numpy as np\n",
        "import pandas as pd\n",
        "import sklearn\n",
        "import tensorflow as tf\n",
        "import matplotlib.pyplot as plt\n",
        "import math\n",
        "from PIL import Image\n",
        "\n",
        "\n"
      ]
    },
    {
      "cell_type": "markdown",
      "metadata": {
        "id": "aFcqjf9VXHfF"
      },
      "source": [
        "# Data Loading\n",
        "In this assignment we will be using the Yoga Postures Dataset from [Kaggle](https://www.kaggle.com/datasets/tr1gg3rtrash/yoga-posture-dataset) and will use the following code blocks to download the dataset directly to your Google Drive."
      ]
    },
    {
      "cell_type": "markdown",
      "metadata": {
        "id": "0tZ4gJ5zuZjP"
      },
      "source": [
        "## Creating a Kaggle API Token\n",
        "First we will need to download an API token from Kaggle in order to download the dataset, so our first step is to create a Kaggle account if you don't already have one.\n",
        "1. Create a Kaggle account by following the sign up instructions [here](https://www.kaggle.com/).\n",
        "2. Log into your Kaggle account and click your account icon on the upper righthand side. \n",
        "3. Then select **Account** from the dropdown/sidebar menu.\n",
        "4. Scroll down to the **API** section and select **Create New API Token**.\n",
        "5. This will download a JSON file called kaggle.json to your Downloads folder on your computer.\n",
        "6. Now run the following code block and when the **Browse** button appears, click it and select that kaggle.json file. "
      ]
    },
    {
      "cell_type": "code",
      "execution_count": 2,
      "metadata": {
        "colab": {
          "base_uri": "https://localhost:8080/",
          "height": 76
        },
        "id": "gSQSg2HkXaHF",
        "outputId": "d5f29818-0f59-4d7e-8861-416d87845a86"
      },
      "outputs": [
        {
          "output_type": "display_data",
          "data": {
            "text/plain": [
              "<IPython.core.display.HTML object>"
            ],
            "text/html": [
              "\n",
              "     <input type=\"file\" id=\"files-d62d8bf6-78aa-4d00-9871-ae450fdec687\" name=\"files[]\" multiple disabled\n",
              "        style=\"border:none\" />\n",
              "     <output id=\"result-d62d8bf6-78aa-4d00-9871-ae450fdec687\">\n",
              "      Upload widget is only available when the cell has been executed in the\n",
              "      current browser session. Please rerun this cell to enable.\n",
              "      </output>\n",
              "      <script>// Copyright 2017 Google LLC\n",
              "//\n",
              "// Licensed under the Apache License, Version 2.0 (the \"License\");\n",
              "// you may not use this file except in compliance with the License.\n",
              "// You may obtain a copy of the License at\n",
              "//\n",
              "//      http://www.apache.org/licenses/LICENSE-2.0\n",
              "//\n",
              "// Unless required by applicable law or agreed to in writing, software\n",
              "// distributed under the License is distributed on an \"AS IS\" BASIS,\n",
              "// WITHOUT WARRANTIES OR CONDITIONS OF ANY KIND, either express or implied.\n",
              "// See the License for the specific language governing permissions and\n",
              "// limitations under the License.\n",
              "\n",
              "/**\n",
              " * @fileoverview Helpers for google.colab Python module.\n",
              " */\n",
              "(function(scope) {\n",
              "function span(text, styleAttributes = {}) {\n",
              "  const element = document.createElement('span');\n",
              "  element.textContent = text;\n",
              "  for (const key of Object.keys(styleAttributes)) {\n",
              "    element.style[key] = styleAttributes[key];\n",
              "  }\n",
              "  return element;\n",
              "}\n",
              "\n",
              "// Max number of bytes which will be uploaded at a time.\n",
              "const MAX_PAYLOAD_SIZE = 100 * 1024;\n",
              "\n",
              "function _uploadFiles(inputId, outputId) {\n",
              "  const steps = uploadFilesStep(inputId, outputId);\n",
              "  const outputElement = document.getElementById(outputId);\n",
              "  // Cache steps on the outputElement to make it available for the next call\n",
              "  // to uploadFilesContinue from Python.\n",
              "  outputElement.steps = steps;\n",
              "\n",
              "  return _uploadFilesContinue(outputId);\n",
              "}\n",
              "\n",
              "// This is roughly an async generator (not supported in the browser yet),\n",
              "// where there are multiple asynchronous steps and the Python side is going\n",
              "// to poll for completion of each step.\n",
              "// This uses a Promise to block the python side on completion of each step,\n",
              "// then passes the result of the previous step as the input to the next step.\n",
              "function _uploadFilesContinue(outputId) {\n",
              "  const outputElement = document.getElementById(outputId);\n",
              "  const steps = outputElement.steps;\n",
              "\n",
              "  const next = steps.next(outputElement.lastPromiseValue);\n",
              "  return Promise.resolve(next.value.promise).then((value) => {\n",
              "    // Cache the last promise value to make it available to the next\n",
              "    // step of the generator.\n",
              "    outputElement.lastPromiseValue = value;\n",
              "    return next.value.response;\n",
              "  });\n",
              "}\n",
              "\n",
              "/**\n",
              " * Generator function which is called between each async step of the upload\n",
              " * process.\n",
              " * @param {string} inputId Element ID of the input file picker element.\n",
              " * @param {string} outputId Element ID of the output display.\n",
              " * @return {!Iterable<!Object>} Iterable of next steps.\n",
              " */\n",
              "function* uploadFilesStep(inputId, outputId) {\n",
              "  const inputElement = document.getElementById(inputId);\n",
              "  inputElement.disabled = false;\n",
              "\n",
              "  const outputElement = document.getElementById(outputId);\n",
              "  outputElement.innerHTML = '';\n",
              "\n",
              "  const pickedPromise = new Promise((resolve) => {\n",
              "    inputElement.addEventListener('change', (e) => {\n",
              "      resolve(e.target.files);\n",
              "    });\n",
              "  });\n",
              "\n",
              "  const cancel = document.createElement('button');\n",
              "  inputElement.parentElement.appendChild(cancel);\n",
              "  cancel.textContent = 'Cancel upload';\n",
              "  const cancelPromise = new Promise((resolve) => {\n",
              "    cancel.onclick = () => {\n",
              "      resolve(null);\n",
              "    };\n",
              "  });\n",
              "\n",
              "  // Wait for the user to pick the files.\n",
              "  const files = yield {\n",
              "    promise: Promise.race([pickedPromise, cancelPromise]),\n",
              "    response: {\n",
              "      action: 'starting',\n",
              "    }\n",
              "  };\n",
              "\n",
              "  cancel.remove();\n",
              "\n",
              "  // Disable the input element since further picks are not allowed.\n",
              "  inputElement.disabled = true;\n",
              "\n",
              "  if (!files) {\n",
              "    return {\n",
              "      response: {\n",
              "        action: 'complete',\n",
              "      }\n",
              "    };\n",
              "  }\n",
              "\n",
              "  for (const file of files) {\n",
              "    const li = document.createElement('li');\n",
              "    li.append(span(file.name, {fontWeight: 'bold'}));\n",
              "    li.append(span(\n",
              "        `(${file.type || 'n/a'}) - ${file.size} bytes, ` +\n",
              "        `last modified: ${\n",
              "            file.lastModifiedDate ? file.lastModifiedDate.toLocaleDateString() :\n",
              "                                    'n/a'} - `));\n",
              "    const percent = span('0% done');\n",
              "    li.appendChild(percent);\n",
              "\n",
              "    outputElement.appendChild(li);\n",
              "\n",
              "    const fileDataPromise = new Promise((resolve) => {\n",
              "      const reader = new FileReader();\n",
              "      reader.onload = (e) => {\n",
              "        resolve(e.target.result);\n",
              "      };\n",
              "      reader.readAsArrayBuffer(file);\n",
              "    });\n",
              "    // Wait for the data to be ready.\n",
              "    let fileData = yield {\n",
              "      promise: fileDataPromise,\n",
              "      response: {\n",
              "        action: 'continue',\n",
              "      }\n",
              "    };\n",
              "\n",
              "    // Use a chunked sending to avoid message size limits. See b/62115660.\n",
              "    let position = 0;\n",
              "    do {\n",
              "      const length = Math.min(fileData.byteLength - position, MAX_PAYLOAD_SIZE);\n",
              "      const chunk = new Uint8Array(fileData, position, length);\n",
              "      position += length;\n",
              "\n",
              "      const base64 = btoa(String.fromCharCode.apply(null, chunk));\n",
              "      yield {\n",
              "        response: {\n",
              "          action: 'append',\n",
              "          file: file.name,\n",
              "          data: base64,\n",
              "        },\n",
              "      };\n",
              "\n",
              "      let percentDone = fileData.byteLength === 0 ?\n",
              "          100 :\n",
              "          Math.round((position / fileData.byteLength) * 100);\n",
              "      percent.textContent = `${percentDone}% done`;\n",
              "\n",
              "    } while (position < fileData.byteLength);\n",
              "  }\n",
              "\n",
              "  // All done.\n",
              "  yield {\n",
              "    response: {\n",
              "      action: 'complete',\n",
              "    }\n",
              "  };\n",
              "}\n",
              "\n",
              "scope.google = scope.google || {};\n",
              "scope.google.colab = scope.google.colab || {};\n",
              "scope.google.colab._files = {\n",
              "  _uploadFiles,\n",
              "  _uploadFilesContinue,\n",
              "};\n",
              "})(self);\n",
              "</script> "
            ]
          },
          "metadata": {}
        },
        {
          "output_type": "stream",
          "name": "stdout",
          "text": [
            "Saving kaggle.json to kaggle.json\n"
          ]
        }
      ],
      "source": [
        "# Run this code block after creating a Kaggle API token as instructed above.\n",
        "! pip install -q kaggle\n",
        "from google.colab import files \n",
        "\n",
        "# Will ask you to upload kaggle.json file and remove any old ones.\n",
        "if os.path.exists('kaggle.json'):\n",
        "  os.remove('kaggle.json')\n",
        "files.upload()\n",
        "\n",
        "# Will create the appropriate directory structure\n",
        "if not os.path.exists('/root/.kaggle'):\n",
        "  ! mkdir ~/.kaggle \n",
        "! cp kaggle.json ~/.kaggle/\n",
        "! chmod 600 ~/.kaggle/kaggle.json"
      ]
    },
    {
      "cell_type": "markdown",
      "metadata": {
        "id": "qVOhg0Rxx1HB"
      },
      "source": [
        "## Downloading the Dataset\n",
        "\n",
        "7. Now we have downloaded our Kaggle credentials we can now download the Yoga Postures Dataset (or any other Kaggle dataset for that matter) directly into our Google Drive."
      ]
    },
    {
      "cell_type": "code",
      "execution_count": 3,
      "metadata": {
        "id": "-r2Nya5yV3hW"
      },
      "outputs": [],
      "source": [
        "# Will ensure a train directory exists in your home and will create if it doesn't exist.\n",
        "if not os.path.exists('train'):\n",
        "  os.mkdir('train')\n",
        "# Will download the yoga postures dataset zip file if it does not exist in the train directory.\n",
        "if not os.path.exists('train/yoga-posture-dataset.zip'):\n",
        "  ! kaggle datasets download -p train tr1gg3rtrash/yoga-posture-dataset\n",
        "# Will check to see if the yoga postures zip file has been unzipped and will unzip the file if not.\n",
        "if not os.path.exists('train/Poses.json'):\n",
        "  ! unzip train/yoga-posture-dataset.zip -d train\n",
        "\n",
        "# To remove train folder and redownload uncomment the code below\n",
        "# !rm -rf train"
      ]
    },
    {
      "cell_type": "markdown",
      "metadata": {
        "id": "EyYOK_sA1rxB"
      },
      "source": [
        "## Viewing the Dataset Metadata\n",
        "Now let's inspect the dataset metadata, i.e. the information about each of the training examples, which is located in the Poses.json file."
      ]
    },
    {
      "cell_type": "code",
      "execution_count": 4,
      "metadata": {
        "colab": {
          "base_uri": "https://localhost:8080/",
          "height": 206
        },
        "id": "bMVBxxYS1ra1",
        "outputId": "f707ec73-977a-4498-f913-1ea700c20b17"
      },
      "outputs": [
        {
          "output_type": "execute_result",
          "data": {
            "text/plain": [
              "   id             sanskrit_name english_name  \\\n",
              "0   1                  Navasana         Boat   \n",
              "1   2            Ardha Navasana    Half-Boat   \n",
              "2   3               Dhanurasana          Bow   \n",
              "3   4  Setu Bandha Sarvangasana       Bridge   \n",
              "4   5           Baddha Konasana    Butterfly   \n",
              "\n",
              "                                             img_url  \n",
              "0  https://www.dropbox.com/s/4m64ztxkj8a4dab/boat...  \n",
              "1  https://www.dropbox.com/s/1nx0r94msxjwvyp/boat...  \n",
              "2  https://www.dropbox.com/s/wizj5kwxvez4c0a/bow....  \n",
              "3  https://www.dropbox.com/s/f1w64ybg4sn8ejt/brid...  \n",
              "4  https://www.dropbox.com/s/3h2pts6xbn28dh7/butt...  "
            ],
            "text/html": [
              "\n",
              "  <div id=\"df-f897b51d-714e-425c-b411-f84fccac8a4c\">\n",
              "    <div class=\"colab-df-container\">\n",
              "      <div>\n",
              "<style scoped>\n",
              "    .dataframe tbody tr th:only-of-type {\n",
              "        vertical-align: middle;\n",
              "    }\n",
              "\n",
              "    .dataframe tbody tr th {\n",
              "        vertical-align: top;\n",
              "    }\n",
              "\n",
              "    .dataframe thead th {\n",
              "        text-align: right;\n",
              "    }\n",
              "</style>\n",
              "<table border=\"1\" class=\"dataframe\">\n",
              "  <thead>\n",
              "    <tr style=\"text-align: right;\">\n",
              "      <th></th>\n",
              "      <th>id</th>\n",
              "      <th>sanskrit_name</th>\n",
              "      <th>english_name</th>\n",
              "      <th>img_url</th>\n",
              "    </tr>\n",
              "  </thead>\n",
              "  <tbody>\n",
              "    <tr>\n",
              "      <th>0</th>\n",
              "      <td>1</td>\n",
              "      <td>Navasana</td>\n",
              "      <td>Boat</td>\n",
              "      <td>https://www.dropbox.com/s/4m64ztxkj8a4dab/boat...</td>\n",
              "    </tr>\n",
              "    <tr>\n",
              "      <th>1</th>\n",
              "      <td>2</td>\n",
              "      <td>Ardha Navasana</td>\n",
              "      <td>Half-Boat</td>\n",
              "      <td>https://www.dropbox.com/s/1nx0r94msxjwvyp/boat...</td>\n",
              "    </tr>\n",
              "    <tr>\n",
              "      <th>2</th>\n",
              "      <td>3</td>\n",
              "      <td>Dhanurasana</td>\n",
              "      <td>Bow</td>\n",
              "      <td>https://www.dropbox.com/s/wizj5kwxvez4c0a/bow....</td>\n",
              "    </tr>\n",
              "    <tr>\n",
              "      <th>3</th>\n",
              "      <td>4</td>\n",
              "      <td>Setu Bandha Sarvangasana</td>\n",
              "      <td>Bridge</td>\n",
              "      <td>https://www.dropbox.com/s/f1w64ybg4sn8ejt/brid...</td>\n",
              "    </tr>\n",
              "    <tr>\n",
              "      <th>4</th>\n",
              "      <td>5</td>\n",
              "      <td>Baddha Konasana</td>\n",
              "      <td>Butterfly</td>\n",
              "      <td>https://www.dropbox.com/s/3h2pts6xbn28dh7/butt...</td>\n",
              "    </tr>\n",
              "  </tbody>\n",
              "</table>\n",
              "</div>\n",
              "      <button class=\"colab-df-convert\" onclick=\"convertToInteractive('df-f897b51d-714e-425c-b411-f84fccac8a4c')\"\n",
              "              title=\"Convert this dataframe to an interactive table.\"\n",
              "              style=\"display:none;\">\n",
              "        \n",
              "  <svg xmlns=\"http://www.w3.org/2000/svg\" height=\"24px\"viewBox=\"0 0 24 24\"\n",
              "       width=\"24px\">\n",
              "    <path d=\"M0 0h24v24H0V0z\" fill=\"none\"/>\n",
              "    <path d=\"M18.56 5.44l.94 2.06.94-2.06 2.06-.94-2.06-.94-.94-2.06-.94 2.06-2.06.94zm-11 1L8.5 8.5l.94-2.06 2.06-.94-2.06-.94L8.5 2.5l-.94 2.06-2.06.94zm10 10l.94 2.06.94-2.06 2.06-.94-2.06-.94-.94-2.06-.94 2.06-2.06.94z\"/><path d=\"M17.41 7.96l-1.37-1.37c-.4-.4-.92-.59-1.43-.59-.52 0-1.04.2-1.43.59L10.3 9.45l-7.72 7.72c-.78.78-.78 2.05 0 2.83L4 21.41c.39.39.9.59 1.41.59.51 0 1.02-.2 1.41-.59l7.78-7.78 2.81-2.81c.8-.78.8-2.07 0-2.86zM5.41 20L4 18.59l7.72-7.72 1.47 1.35L5.41 20z\"/>\n",
              "  </svg>\n",
              "      </button>\n",
              "      \n",
              "  <style>\n",
              "    .colab-df-container {\n",
              "      display:flex;\n",
              "      flex-wrap:wrap;\n",
              "      gap: 12px;\n",
              "    }\n",
              "\n",
              "    .colab-df-convert {\n",
              "      background-color: #E8F0FE;\n",
              "      border: none;\n",
              "      border-radius: 50%;\n",
              "      cursor: pointer;\n",
              "      display: none;\n",
              "      fill: #1967D2;\n",
              "      height: 32px;\n",
              "      padding: 0 0 0 0;\n",
              "      width: 32px;\n",
              "    }\n",
              "\n",
              "    .colab-df-convert:hover {\n",
              "      background-color: #E2EBFA;\n",
              "      box-shadow: 0px 1px 2px rgba(60, 64, 67, 0.3), 0px 1px 3px 1px rgba(60, 64, 67, 0.15);\n",
              "      fill: #174EA6;\n",
              "    }\n",
              "\n",
              "    [theme=dark] .colab-df-convert {\n",
              "      background-color: #3B4455;\n",
              "      fill: #D2E3FC;\n",
              "    }\n",
              "\n",
              "    [theme=dark] .colab-df-convert:hover {\n",
              "      background-color: #434B5C;\n",
              "      box-shadow: 0px 1px 3px 1px rgba(0, 0, 0, 0.15);\n",
              "      filter: drop-shadow(0px 1px 2px rgba(0, 0, 0, 0.3));\n",
              "      fill: #FFFFFF;\n",
              "    }\n",
              "  </style>\n",
              "\n",
              "      <script>\n",
              "        const buttonEl =\n",
              "          document.querySelector('#df-f897b51d-714e-425c-b411-f84fccac8a4c button.colab-df-convert');\n",
              "        buttonEl.style.display =\n",
              "          google.colab.kernel.accessAllowed ? 'block' : 'none';\n",
              "\n",
              "        async function convertToInteractive(key) {\n",
              "          const element = document.querySelector('#df-f897b51d-714e-425c-b411-f84fccac8a4c');\n",
              "          const dataTable =\n",
              "            await google.colab.kernel.invokeFunction('convertToInteractive',\n",
              "                                                     [key], {});\n",
              "          if (!dataTable) return;\n",
              "\n",
              "          const docLinkHtml = 'Like what you see? Visit the ' +\n",
              "            '<a target=\"_blank\" href=https://colab.research.google.com/notebooks/data_table.ipynb>data table notebook</a>'\n",
              "            + ' to learn more about interactive tables.';\n",
              "          element.innerHTML = '';\n",
              "          dataTable['output_type'] = 'display_data';\n",
              "          await google.colab.output.renderOutput(dataTable, element);\n",
              "          const docLink = document.createElement('div');\n",
              "          docLink.innerHTML = docLinkHtml;\n",
              "          element.appendChild(docLink);\n",
              "        }\n",
              "      </script>\n",
              "    </div>\n",
              "  </div>\n",
              "  "
            ]
          },
          "metadata": {},
          "execution_count": 4
        }
      ],
      "source": [
        "# Let's load the yoga postures metadata\n",
        "import json\n",
        "with open('train/Poses.json', 'r') as metafile:\n",
        "  metadata = json.load(metafile)\n",
        "metadata = pd.DataFrame.from_dict(metadata['Poses'])\n",
        "metadata.head()"
      ]
    },
    {
      "cell_type": "markdown",
      "metadata": {
        "id": "mty9AB1bd5hH"
      },
      "source": [
        "## Pre-Problem: Segmenting Out the Test Data and Copying to Google Drive\n",
        "A part of this homework will be a competition. Included in your assignment github repo, there is a file called **test_images.csv**. This file holds all of the image paths that you are **NOT** allowed to use during *training*. Therefore, what we are going to do in this pre-problem is remove all the testing images from your train data folder. *Hint:* You naturally are still allowed/should use the test data to evaluate your model moving foward, you're just not allowed to use these images during training."
      ]
    },
    {
      "cell_type": "markdown",
      "metadata": {
        "id": "C8V1hjp0rhOw"
      },
      "source": [
        "### Task 1\n",
        "Using the code available in the Data loading section as a reference, write a command using the \"!\" colab operator to create a new directory called **test**."
      ]
    },
    {
      "cell_type": "code",
      "execution_count": 5,
      "metadata": {
        "id": "IX8v3DzArOf6",
        "colab": {
          "base_uri": "https://localhost:8080/"
        },
        "outputId": "9aff0f5b-6c0c-4c83-f42d-e71ecf4b2890"
      },
      "outputs": [
        {
          "output_type": "stream",
          "name": "stdout",
          "text": [
            "mkdir: cannot create directory ‘test’: File exists\n"
          ]
        }
      ],
      "source": [
        "#TODO: Write one line of code to make a new directory called test (You might need to refresh your files view to see the change)\n",
        "! mkdir test"
      ]
    },
    {
      "cell_type": "markdown",
      "metadata": {
        "id": "T_Ln5qixfHwt"
      },
      "source": [
        "### Task 2\n",
        "Upload your **test_images.csv** file by running the following code block."
      ]
    },
    {
      "cell_type": "code",
      "execution_count": 6,
      "metadata": {
        "colab": {
          "base_uri": "https://localhost:8080/",
          "height": 1000
        },
        "id": "ZCY6MmC-6HhX",
        "outputId": "75faa475-5197-4fd2-e9cc-a71a08e28bfb"
      },
      "outputs": [
        {
          "output_type": "display_data",
          "data": {
            "text/plain": [
              "<IPython.core.display.HTML object>"
            ],
            "text/html": [
              "\n",
              "     <input type=\"file\" id=\"files-ce6f5689-151f-48de-b089-3c047bf46a94\" name=\"files[]\" multiple disabled\n",
              "        style=\"border:none\" />\n",
              "     <output id=\"result-ce6f5689-151f-48de-b089-3c047bf46a94\">\n",
              "      Upload widget is only available when the cell has been executed in the\n",
              "      current browser session. Please rerun this cell to enable.\n",
              "      </output>\n",
              "      <script>// Copyright 2017 Google LLC\n",
              "//\n",
              "// Licensed under the Apache License, Version 2.0 (the \"License\");\n",
              "// you may not use this file except in compliance with the License.\n",
              "// You may obtain a copy of the License at\n",
              "//\n",
              "//      http://www.apache.org/licenses/LICENSE-2.0\n",
              "//\n",
              "// Unless required by applicable law or agreed to in writing, software\n",
              "// distributed under the License is distributed on an \"AS IS\" BASIS,\n",
              "// WITHOUT WARRANTIES OR CONDITIONS OF ANY KIND, either express or implied.\n",
              "// See the License for the specific language governing permissions and\n",
              "// limitations under the License.\n",
              "\n",
              "/**\n",
              " * @fileoverview Helpers for google.colab Python module.\n",
              " */\n",
              "(function(scope) {\n",
              "function span(text, styleAttributes = {}) {\n",
              "  const element = document.createElement('span');\n",
              "  element.textContent = text;\n",
              "  for (const key of Object.keys(styleAttributes)) {\n",
              "    element.style[key] = styleAttributes[key];\n",
              "  }\n",
              "  return element;\n",
              "}\n",
              "\n",
              "// Max number of bytes which will be uploaded at a time.\n",
              "const MAX_PAYLOAD_SIZE = 100 * 1024;\n",
              "\n",
              "function _uploadFiles(inputId, outputId) {\n",
              "  const steps = uploadFilesStep(inputId, outputId);\n",
              "  const outputElement = document.getElementById(outputId);\n",
              "  // Cache steps on the outputElement to make it available for the next call\n",
              "  // to uploadFilesContinue from Python.\n",
              "  outputElement.steps = steps;\n",
              "\n",
              "  return _uploadFilesContinue(outputId);\n",
              "}\n",
              "\n",
              "// This is roughly an async generator (not supported in the browser yet),\n",
              "// where there are multiple asynchronous steps and the Python side is going\n",
              "// to poll for completion of each step.\n",
              "// This uses a Promise to block the python side on completion of each step,\n",
              "// then passes the result of the previous step as the input to the next step.\n",
              "function _uploadFilesContinue(outputId) {\n",
              "  const outputElement = document.getElementById(outputId);\n",
              "  const steps = outputElement.steps;\n",
              "\n",
              "  const next = steps.next(outputElement.lastPromiseValue);\n",
              "  return Promise.resolve(next.value.promise).then((value) => {\n",
              "    // Cache the last promise value to make it available to the next\n",
              "    // step of the generator.\n",
              "    outputElement.lastPromiseValue = value;\n",
              "    return next.value.response;\n",
              "  });\n",
              "}\n",
              "\n",
              "/**\n",
              " * Generator function which is called between each async step of the upload\n",
              " * process.\n",
              " * @param {string} inputId Element ID of the input file picker element.\n",
              " * @param {string} outputId Element ID of the output display.\n",
              " * @return {!Iterable<!Object>} Iterable of next steps.\n",
              " */\n",
              "function* uploadFilesStep(inputId, outputId) {\n",
              "  const inputElement = document.getElementById(inputId);\n",
              "  inputElement.disabled = false;\n",
              "\n",
              "  const outputElement = document.getElementById(outputId);\n",
              "  outputElement.innerHTML = '';\n",
              "\n",
              "  const pickedPromise = new Promise((resolve) => {\n",
              "    inputElement.addEventListener('change', (e) => {\n",
              "      resolve(e.target.files);\n",
              "    });\n",
              "  });\n",
              "\n",
              "  const cancel = document.createElement('button');\n",
              "  inputElement.parentElement.appendChild(cancel);\n",
              "  cancel.textContent = 'Cancel upload';\n",
              "  const cancelPromise = new Promise((resolve) => {\n",
              "    cancel.onclick = () => {\n",
              "      resolve(null);\n",
              "    };\n",
              "  });\n",
              "\n",
              "  // Wait for the user to pick the files.\n",
              "  const files = yield {\n",
              "    promise: Promise.race([pickedPromise, cancelPromise]),\n",
              "    response: {\n",
              "      action: 'starting',\n",
              "    }\n",
              "  };\n",
              "\n",
              "  cancel.remove();\n",
              "\n",
              "  // Disable the input element since further picks are not allowed.\n",
              "  inputElement.disabled = true;\n",
              "\n",
              "  if (!files) {\n",
              "    return {\n",
              "      response: {\n",
              "        action: 'complete',\n",
              "      }\n",
              "    };\n",
              "  }\n",
              "\n",
              "  for (const file of files) {\n",
              "    const li = document.createElement('li');\n",
              "    li.append(span(file.name, {fontWeight: 'bold'}));\n",
              "    li.append(span(\n",
              "        `(${file.type || 'n/a'}) - ${file.size} bytes, ` +\n",
              "        `last modified: ${\n",
              "            file.lastModifiedDate ? file.lastModifiedDate.toLocaleDateString() :\n",
              "                                    'n/a'} - `));\n",
              "    const percent = span('0% done');\n",
              "    li.appendChild(percent);\n",
              "\n",
              "    outputElement.appendChild(li);\n",
              "\n",
              "    const fileDataPromise = new Promise((resolve) => {\n",
              "      const reader = new FileReader();\n",
              "      reader.onload = (e) => {\n",
              "        resolve(e.target.result);\n",
              "      };\n",
              "      reader.readAsArrayBuffer(file);\n",
              "    });\n",
              "    // Wait for the data to be ready.\n",
              "    let fileData = yield {\n",
              "      promise: fileDataPromise,\n",
              "      response: {\n",
              "        action: 'continue',\n",
              "      }\n",
              "    };\n",
              "\n",
              "    // Use a chunked sending to avoid message size limits. See b/62115660.\n",
              "    let position = 0;\n",
              "    do {\n",
              "      const length = Math.min(fileData.byteLength - position, MAX_PAYLOAD_SIZE);\n",
              "      const chunk = new Uint8Array(fileData, position, length);\n",
              "      position += length;\n",
              "\n",
              "      const base64 = btoa(String.fromCharCode.apply(null, chunk));\n",
              "      yield {\n",
              "        response: {\n",
              "          action: 'append',\n",
              "          file: file.name,\n",
              "          data: base64,\n",
              "        },\n",
              "      };\n",
              "\n",
              "      let percentDone = fileData.byteLength === 0 ?\n",
              "          100 :\n",
              "          Math.round((position / fileData.byteLength) * 100);\n",
              "      percent.textContent = `${percentDone}% done`;\n",
              "\n",
              "    } while (position < fileData.byteLength);\n",
              "  }\n",
              "\n",
              "  // All done.\n",
              "  yield {\n",
              "    response: {\n",
              "      action: 'complete',\n",
              "    }\n",
              "  };\n",
              "}\n",
              "\n",
              "scope.google = scope.google || {};\n",
              "scope.google.colab = scope.google.colab || {};\n",
              "scope.google.colab._files = {\n",
              "  _uploadFiles,\n",
              "  _uploadFilesContinue,\n",
              "};\n",
              "})(self);\n",
              "</script> "
            ]
          },
          "metadata": {}
        },
        {
          "output_type": "stream",
          "name": "stdout",
          "text": [
            "Saving test_images.csv to test_images (1).csv\n"
          ]
        },
        {
          "output_type": "execute_result",
          "data": {
            "text/plain": [
              "{'test_images.csv': b'Virabhadrasana Two/File41.png\\r\\nVirabhadrasana Two/File15.png\\r\\nVirabhadrasana Two/File49.png\\r\\nVirabhadrasana Two/File36.png\\r\\nVirabhadrasana Two/File29.png\\r\\nVirabhadrasana Two/File34.png\\r\\nVirabhadrasana Two/File14.png\\r\\nVirabhadrasana Two/File61.jpeg\\r\\nVirabhadrasana Two/File25.png\\r\\nVirabhadrasana Two/File28.png\\r\\nVirabhadrasana Two/File44.png\\r\\nVirabhadrasana Two/File13.png\\r\\nUpavistha Konasana/File8.jpeg\\r\\nUpavistha Konasana/File3.jpeg\\r\\nUpavistha Konasana/File6.jpeg\\r\\nSetu Bandha Sarvangasana/File65.jpeg\\r\\nSetu Bandha Sarvangasana/File60.jpg\\r\\nSetu Bandha Sarvangasana/File41.png\\r\\nSetu Bandha Sarvangasana/File50.jpg\\r\\nSetu Bandha Sarvangasana/File6.png\\r\\nSetu Bandha Sarvangasana/File23.png\\r\\nSetu Bandha Sarvangasana/File13.png\\r\\nSetu Bandha Sarvangasana/File48.jpg\\r\\nSetu Bandha Sarvangasana/File12.png\\r\\nSetu Bandha Sarvangasana/File15.png\\r\\nSetu Bandha Sarvangasana/File68.jpeg\\r\\nSetu Bandha Sarvangasana/File17.png\\r\\nSetu Bandha Sarvangasana/File4.png\\r\\nTrikonasana/File6.jpeg\\r\\nTrikonasana/File1.jpeg\\r\\nTrikonasana/File22.jpeg\\r\\nTrikonasana/File13.jpeg\\r\\nPadmasana/File55.png\\r\\nPadmasana/File64.png\\r\\nPadmasana/File21.png\\r\\nPadmasana/File12.jpg\\r\\nPadmasana/File76.jpeg\\r\\nPadmasana/File65.png\\r\\nPadmasana/File28.png\\r\\nPadmasana/File72.jpeg\\r\\nPadmasana/File51.png\\r\\nPadmasana/File54.jpg\\r\\nPadmasana/File43.jpg\\r\\nPadmasana/File6.png\\r\\nPadmasana/File36.png\\r\\nPadmasana/File60.png\\r\\nPadmasana/File34.png\\r\\nVrksasana/File17.png\\r\\nVrksasana/File58.png\\r\\nVrksasana/File31.png\\r\\nVrksasana/File63.jpeg\\r\\nVrksasana/File57.png\\r\\nVrksasana/File13.png\\r\\nVrksasana/File51.png\\r\\nVrksasana/File45.png\\r\\nVrksasana/File66.jpeg\\r\\nVrksasana/File12.png\\r\\nVrksasana/File48.png\\r\\nVrksasana/File35.png\\r\\nVrksasana/File52.png\\r\\nNavasana/File18.jpeg\\r\\nNavasana/File10.jpeg\\r\\nNavasana/File4.jpeg\\r\\nArdha Pincha Mayurasana/File32.png\\r\\nArdha Pincha Mayurasana/File33.png\\r\\nArdha Pincha Mayurasana/File18.png\\r\\nArdha Pincha Mayurasana/File10.png\\r\\nArdha Pincha Mayurasana/File53.jpeg\\r\\nArdha Pincha Mayurasana/File13.png\\r\\nArdha Pincha Mayurasana/File24.png\\r\\nArdha Pincha Mayurasana/File14.png\\r\\nArdha Pincha Mayurasana/File54.png\\r\\nArdha Pincha Mayurasana/File37.png\\r\\nParsvottanasana/File4.png\\r\\nParsvottanasana/File30.png\\r\\nParsvottanasana/File43.jpeg\\r\\nParsvottanasana/File18.png\\r\\nParsvottanasana/File20.png\\r\\nParsvottanasana/File2.png\\r\\nParsvottanasana/File12.png\\r\\nParsvottanasana/File6.png\\r\\nEka Pada Rajakapotasana/File7.png\\r\\nEka Pada Rajakapotasana/File13.png\\r\\nEka Pada Rajakapotasana/File46.jpeg\\r\\nEka Pada Rajakapotasana/File28.png\\r\\nEka Pada Rajakapotasana/File37.png\\r\\nEka Pada Rajakapotasana/File40.png\\r\\nEka Pada Rajakapotasana/File34.png\\r\\nEka Pada Rajakapotasana/File39.png\\r\\nEka Pada Rajakapotasana/File31.png\\r\\nEka Pada Rajakapotasana/File48.jpeg\\r\\nUrdhva Mukha Svsnssana/File13.png\\r\\nUrdhva Mukha Svsnssana/File52.png\\r\\nUrdhva Mukha Svsnssana/File54.png\\r\\nUrdhva Mukha Svsnssana/File5.png\\r\\nUrdhva Mukha Svsnssana/File67.jpeg\\r\\nUrdhva Mukha Svsnssana/File44.png\\r\\nUrdhva Mukha Svsnssana/File66.jpeg\\r\\nUrdhva Mukha Svsnssana/File10.png\\r\\nUrdhva Mukha Svsnssana/File49.png\\r\\nUrdhva Mukha Svsnssana/File18.png\\r\\nUrdhva Mukha Svsnssana/File27.png\\r\\nUrdhva Mukha Svsnssana/File56.png\\r\\nUrdhva Mukha Svsnssana/File38.png\\r\\nArdha Navasana/File12.png\\r\\nArdha Navasana/File9.jpeg\\r\\nUstrasana/File54.png\\r\\nUstrasana/File28.png\\r\\nUstrasana/File71.png\\r\\nUstrasana/File44.png\\r\\nUstrasana/File65.png\\r\\nUstrasana/File61.png\\r\\nUstrasana/File77.png\\r\\nUstrasana/File59.png\\r\\nUstrasana/File12.png\\r\\nUstrasana/File89.jpeg\\r\\nUstrasana/File45.png\\r\\nUstrasana/File55.png\\r\\nUstrasana/File53.png\\r\\nUstrasana/File15.png\\r\\nUstrasana/File37.png\\r\\nUstrasana/File5.png\\r\\nUstrasana/File82.png\\r\\nUstrasana/File14.png\\r\\nUstrasana/File66.png\\r\\nVirabhadrasana One/File7.png\\r\\nVirabhadrasana One/File34.png\\r\\nVirabhadrasana One/File18.png\\r\\nVirabhadrasana One/File57.jpeg\\r\\nVirabhadrasana One/File15.png\\r\\nVirabhadrasana One/File43.png\\r\\nVirabhadrasana One/File6.png\\r\\nVirabhadrasana One/File63.jpeg\\r\\nVirabhadrasana One/File42.png\\r\\nVirabhadrasana One/File5.png\\r\\nVirabhadrasana One/File24.png\\r\\nVirabhadrasana One/File28.png\\r\\nUtthita Hasta Padangusthasana/File60.jpeg\\r\\nUtthita Hasta Padangusthasana/File3.png\\r\\nUtthita Hasta Padangusthasana/File56.png\\r\\nUtthita Hasta Padangusthasana/File17.png\\r\\nUtthita Hasta Padangusthasana/File15.png\\r\\nUtthita Hasta Padangusthasana/File18.png\\r\\nUtthita Hasta Padangusthasana/File2.png\\r\\nUtthita Hasta Padangusthasana/File28.png\\r\\nUtthita Hasta Padangusthasana/File61.png\\r\\nUtthita Hasta Padangusthasana/File11.png\\r\\nUtthita Hasta Padangusthasana/File57.png\\r\\nUtthita Hasta Padangusthasana/File31.png\\r\\nHanumanasana/File10.png\\r\\nHanumanasana/File8.png\\r\\nHanumanasana/File13.png\\r\\nHanumanasana/File2.png\\r\\nHanumanasana/File29.png\\r\\nHanumanasana/File12.png\\r\\nHanumanasana/File31.png\\r\\nHanumanasana/File40.jpeg\\r\\nAdho Mukha Vrksasana/File42.png\\r\\nAdho Mukha Vrksasana/File20.png\\r\\nAdho Mukha Vrksasana/File52.png\\r\\nAdho Mukha Vrksasana/File27.png\\r\\nAdho Mukha Vrksasana/File48.png\\r\\nAdho Mukha Vrksasana/File21.png\\r\\nAdho Mukha Vrksasana/File35.png\\r\\nAdho Mukha Vrksasana/File62.jpeg\\r\\nAdho Mukha Vrksasana/File10.png\\r\\nAdho Mukha Vrksasana/File29.png\\r\\nAdho Mukha Vrksasana/File59.png\\r\\nAdho Mukha Vrksasana/File5.png\\r\\nAdho Mukha Vrksasana/File2.png\\r\\nAshta Chandrasana/File10.jpeg\\r\\nAshta Chandrasana/File9.jpeg\\r\\nPaschimottanasana/File29.png\\r\\nPaschimottanasana/File51.png\\r\\nPaschimottanasana/File4.png\\r\\nPaschimottanasana/File52.png\\r\\nPaschimottanasana/File21.png\\r\\nPaschimottanasana/File10.png\\r\\nPaschimottanasana/File36.png\\r\\nPaschimottanasana/File37.png\\r\\nPaschimottanasana/File9.png\\r\\nPaschimottanasana/File53.png\\r\\nPaschimottanasana/File28.png\\r\\nPaschimottanasana/File15.png\\r\\nBaddha Konasana/File76.jpeg\\r\\nBaddha Konasana/File80.jpeg\\r\\nBaddha Konasana/File16.png\\r\\nBaddha Konasana/File7.png\\r\\nBaddha Konasana/File47.png\\r\\nBaddha Konasana/File37.png\\r\\nBaddha Konasana/File67.png\\r\\nBaddha Konasana/File73.jpeg\\r\\nBaddha Konasana/File44.png\\r\\nBaddha Konasana/File59.jpg\\r\\nBaddha Konasana/File22.png\\r\\nBaddha Konasana/File21.jpg\\r\\nBaddha Konasana/File9.png\\r\\nBaddha Konasana/File69.png\\r\\nBaddha Konasana/File78.jpeg\\r\\nBaddha Konasana/File29.png\\r\\nBitilasana/File68.png\\r\\nBitilasana/File78.png\\r\\nBitilasana/File1.png\\r\\nBitilasana/File17.png\\r\\nBitilasana/File74.png\\r\\nBitilasana/File43.png\\r\\nBitilasana/File21.png\\r\\nBitilasana/File12.png\\r\\nBitilasana/File24.png\\r\\nBitilasana/File3.png\\r\\nBitilasana/File13.png\\r\\nBitilasana/File33.png\\r\\nBitilasana/File60.png\\r\\nBitilasana/File56.png\\r\\nBitilasana/File39.png\\r\\nBitilasana/File7.png\\r\\nBitilasana/File34.png\\r\\nBitilasana/File63.png\\r\\nSalamba Sarvangasana/File12.png\\r\\nSalamba Sarvangasana/File24.png\\r\\nSalamba Sarvangasana/File65.png\\r\\nSalamba Sarvangasana/File20.png\\r\\nSalamba Sarvangasana/File56.png\\r\\nSalamba Sarvangasana/File69.jpeg\\r\\nSalamba Sarvangasana/File45.png\\r\\nSalamba Sarvangasana/File14.png\\r\\nSalamba Sarvangasana/File33.png\\r\\nSalamba Sarvangasana/File57.png\\r\\nSalamba Sarvangasana/File36.png\\r\\nSalamba Sarvangasana/File22.png\\r\\nSalamba Sarvangasana/File53.png\\r\\nSalamba Sarvangasana/File51.png\\r\\nUrdhva Dhanurasana/File33.png\\r\\nUrdhva Dhanurasana/File73.jpeg\\r\\nUrdhva Dhanurasana/File38.png\\r\\nUrdhva Dhanurasana/File12.png\\r\\nUrdhva Dhanurasana/File13.png\\r\\nUrdhva Dhanurasana/File63.png\\r\\nUrdhva Dhanurasana/File54.png\\r\\nUrdhva Dhanurasana/File17.png\\r\\nUrdhva Dhanurasana/File11.png\\r\\nUrdhva Dhanurasana/File69.jpeg\\r\\nUrdhva Dhanurasana/File27.png\\r\\nUrdhva Dhanurasana/File39.png\\r\\nUrdhva Dhanurasana/File35.jpeg\\r\\nUrdhva Dhanurasana/File14.png\\r\\nUttanasana/File37.png\\r\\nUttanasana/File11.png\\r\\nUttanasana/File45.png\\r\\nUttanasana/File41.png\\r\\nUttanasana/File55.png\\r\\nUttanasana/File10.png\\r\\nUttanasana/File9.png\\r\\nUttanasana/File29.png\\r\\nUttanasana/File35.png\\r\\nUttanasana/File30.png\\r\\nUttanasana/File67.jpeg\\r\\nUttanasana/File53.png\\r\\nUttanasana/File56.png\\r\\nUttanasana/File57.png\\r\\nBalasana/File11.png\\r\\nBalasana/File65.png\\r\\nBalasana/File64.png\\r\\nBalasana/File23.png\\r\\nBalasana/File36.png\\r\\nBalasana/File67.png\\r\\nBalasana/File3.png\\r\\nBalasana/File79.jpeg\\r\\nBalasana/File49.png\\r\\nBalasana/File69.png\\r\\nBalasana/File43.png\\r\\nBalasana/File9.png\\r\\nBalasana/File70.png\\r\\nBalasana/File7.png\\r\\nBalasana/File74.jpeg\\r\\nPhalakasana/File64.jpeg\\r\\nPhalakasana/File14.png\\r\\nPhalakasana/File58.jpeg\\r\\nPhalakasana/File6.png\\r\\nPhalakasana/File31.png\\r\\nPhalakasana/File26.png\\r\\nPhalakasana/File4.png\\r\\nPhalakasana/File22.png\\r\\nPhalakasana/File41.png\\r\\nPhalakasana/File28.png\\r\\nPhalakasana/File25.png\\r\\nPhalakasana/File5.png\\r\\nPhalakasana/File34.png\\r\\nPincha Mayurasana/File22.png\\r\\nPincha Mayurasana/File27.png\\r\\nPincha Mayurasana/File4.png\\r\\nPincha Mayurasana/File42.jpeg\\r\\nPincha Mayurasana/File21.png\\r\\nPincha Mayurasana/File17.png\\r\\nPincha Mayurasana/File30.png\\r\\nPincha Mayurasana/File41.jpeg\\r\\nHalasana/File41.png\\r\\nHalasana/File64.png\\r\\nHalasana/File12.png\\r\\nHalasana/File20.png\\r\\nHalasana/File71.jpeg\\r\\nHalasana/File66.png\\r\\nHalasana/File69.jpeg\\r\\nHalasana/File57.png\\r\\nHalasana/File62.png\\r\\nHalasana/File63.png\\r\\nHalasana/File61.png\\r\\nHalasana/File36.png\\r\\nHalasana/File58.png\\r\\nHalasana/File51.png\\r\\nAlanasana/File15.jpeg\\r\\nAlanasana/File8.jpeg\\r\\nAlanasana/File12.jpeg\\r\\nMalasana/File33.png\\r\\nMalasana/File43.png\\r\\nMalasana/File12.png\\r\\nMalasana/File9.png\\r\\nMalasana/File72.jpeg\\r\\nMalasana/File27.png\\r\\nMalasana/File56.png\\r\\nMalasana/File5.png\\r\\nMalasana/File52.png\\r\\nMalasana/File48.png\\r\\nMalasana/File10.png\\r\\nMalasana/File38.png\\r\\nMalasana/File34.png\\r\\nMalasana/File24.png\\r\\nUtthita Parsvakonasana/File1.png\\r\\nUtthita Parsvakonasana/File24.png\\r\\nUtthita Parsvakonasana/File18.png\\r\\nUtthita Parsvakonasana/File69.jpeg\\r\\nUtthita Parsvakonasana/File33.png\\r\\nUtthita Parsvakonasana/File17.png\\r\\nUtthita Parsvakonasana/File65.jpeg\\r\\nUtthita Parsvakonasana/File23.png\\r\\nUtthita Parsvakonasana/File34.png\\r\\nUtthita Parsvakonasana/File4.png\\r\\nUtthita Parsvakonasana/File37.png\\r\\nUtthita Parsvakonasana/File46.png\\r\\nUtthita Parsvakonasana/File22.jpeg\\r\\nAnjaneyasana/File10.png\\r\\nAnjaneyasana/File17.png\\r\\nAnjaneyasana/File16.png\\r\\nAnjaneyasana/File59.png\\r\\nAnjaneyasana/File45.png\\r\\nAnjaneyasana/File56.png\\r\\nAnjaneyasana/File19.png\\r\\nAnjaneyasana/File28.png\\r\\nAnjaneyasana/File57.png\\r\\nAnjaneyasana/File6.png\\r\\nAnjaneyasana/File70.jpeg\\r\\nAnjaneyasana/File37.png\\r\\nAnjaneyasana/File24.png\\r\\nAnjaneyasana/File15.png\\r\\nSivasana/File14.jpeg\\r\\nSivasana/File12.jpeg\\r\\nSivasana/File2.png\\r\\nSivasana/File19.jpeg\\r\\nDhanurasana/File41.png\\r\\nDhanurasana/File23.png\\r\\nDhanurasana/File54.png\\r\\nDhanurasana/File20.png\\r\\nDhanurasana/File8.png\\r\\nDhanurasana/File45.png\\r\\nDhanurasana/File1.png\\r\\nDhanurasana/File11.png\\r\\nDhanurasana/File48.jpeg\\r\\nDhanurasana/File25.png\\r\\nParsva Virabhadrasana/File6.jpeg\\r\\nParsva Virabhadrasana/File1.jpeg\\r\\nSalamba Bhujangasana/File58.jpeg\\r\\nSalamba Bhujangasana/File24.png\\r\\nSalamba Bhujangasana/File14.png\\r\\nSalamba Bhujangasana/File39.png\\r\\nSalamba Bhujangasana/File48.png\\r\\nSalamba Bhujangasana/File12.png\\r\\nSalamba Bhujangasana/File41.png\\r\\nSalamba Bhujangasana/File35.png\\r\\nSalamba Bhujangasana/File20.png\\r\\nSalamba Bhujangasana/File9.png\\r\\nSalamba Bhujangasana/File22.png\\r\\nSalamba Bhujangasana/File19.png\\r\\nArdha Chandrasana/File26.png\\r\\nArdha Chandrasana/File43.png\\r\\nArdha Chandrasana/File13.png\\r\\nArdha Chandrasana/File15.png\\r\\nArdha Chandrasana/File59.jpeg\\r\\nArdha Chandrasana/File50.png\\r\\nArdha Chandrasana/File32.png\\r\\nArdha Chandrasana/File34.png\\r\\nArdha Chandrasana/File3.png\\r\\nArdha Chandrasana/File44.png\\r\\nArdha Chandrasana/File52.png\\r\\nSupta Kapotasana/File2.png\\r\\nSupta Kapotasana/File1.jpeg\\r\\nUtkatasana/File76.jpeg\\r\\nUtkatasana/File8.png\\r\\nUtkatasana/File17.png\\r\\nUtkatasana/File61.png\\r\\nUtkatasana/File56.png\\r\\nUtkatasana/File80.jpeg\\r\\nUtkatasana/File33.png\\r\\nUtkatasana/File72.png\\r\\nUtkatasana/File34.png\\r\\nUtkatasana/File66.png\\r\\nUtkatasana/File46.png\\r\\nUtkatasana/File41.png\\r\\nUtkatasana/File74.jpeg\\r\\nUtkatasana/File19.png\\r\\nUtkatasana/File44.png\\r\\nUtkatasana/File51.png\\r\\nMarjaryasana/File11.png\\r\\nMarjaryasana/File50.jpeg\\r\\nMarjaryasana/File53.jpeg\\r\\nMarjaryasana/File30.png\\r\\nMarjaryasana/File31.png\\r\\nMarjaryasana/File52.jpeg\\r\\nMarjaryasana/File51.jpeg\\r\\nMarjaryasana/File14.png\\r\\nMarjaryasana/File29.png\\r\\nMarjaryasana/File4.png\\r\\nMarjaryasana/File36.png\\r\\nVirabhadrasana Three/File17.png\\r\\nVirabhadrasana Three/File35.png\\r\\nVirabhadrasana Three/File28.png\\r\\nVirabhadrasana Three/File62.jpeg\\r\\nVirabhadrasana Three/File29.png\\r\\nVirabhadrasana Three/File42.png\\r\\nVirabhadrasana Three/File15.png\\r\\nVirabhadrasana Three/File14.png\\r\\nVirabhadrasana Three/File39.png\\r\\nVirabhadrasana Three/File59.png\\r\\nVirabhadrasana Three/File21.png\\r\\nVirabhadrasana Three/File7.png\\r\\nVirabhadrasana Three/File54.png\\r\\nArdha Matsyendrasana/File72.png\\r\\nArdha Matsyendrasana/File42.png\\r\\nArdha Matsyendrasana/File87.png\\r\\nArdha Matsyendrasana/File45.png\\r\\nArdha Matsyendrasana/File17.png\\r\\nArdha Matsyendrasana/File24.png\\r\\nArdha Matsyendrasana/File79.png\\r\\nArdha Matsyendrasana/File68.png\\r\\nArdha Matsyendrasana/File59.png\\r\\nArdha Matsyendrasana/File20.png\\r\\nArdha Matsyendrasana/File40.png\\r\\nArdha Matsyendrasana/File12.png\\r\\nArdha Matsyendrasana/File37.png\\r\\nArdha Matsyendrasana/File27.png\\r\\nArdha Matsyendrasana/File51.png\\r\\nArdha Matsyendrasana/File63.png\\r\\nArdha Matsyendrasana/File96.jpeg\\r\\nArdha Matsyendrasana/File49.png\\r\\nArdha Matsyendrasana/File73.png\\r\\nVasisthasana/File74.png\\r\\nVasisthasana/File22.png\\r\\nVasisthasana/File76.jpeg\\r\\nVasisthasana/File28.png\\r\\nVasisthasana/File67.png\\r\\nVasisthasana/File73.png\\r\\nVasisthasana/File78.jpeg\\r\\nVasisthasana/File77.jpeg\\r\\nVasisthasana/File41.png\\r\\nVasisthasana/File26.png\\r\\nVasisthasana/File35.png\\r\\nVasisthasana/File63.png\\r\\nVasisthasana/File5.png\\r\\nVasisthasana/File59.png\\r\\nVasisthasana/File16.png\\r\\nVasisthasana/File25.png\\r\\nAdho Mukha Svanasana/File33.png\\r\\nAdho Mukha Svanasana/File13.png\\r\\nAdho Mukha Svanasana/File63.png\\r\\nAdho Mukha Svanasana/File4.png\\r\\nAdho Mukha Svanasana/File54.png\\r\\nAdho Mukha Svanasana/File6.png\\r\\nAdho Mukha Svanasana/File2.png\\r\\nAdho Mukha Svanasana/File73.jpeg\\r\\nAdho Mukha Svanasana/File60.png\\r\\nAdho Mukha Svanasana/File68.png\\r\\nAdho Mukha Svanasana/File69.png\\r\\nAdho Mukha Svanasana/File21.png\\r\\nAdho Mukha Svanasana/File45.png\\r\\nAdho Mukha Svanasana/File57.png\\r\\nCamatkarasana/File23.png\\r\\nCamatkarasana/File5.png\\r\\nCamatkarasana/File33.png\\r\\nCamatkarasana/File60.jpeg\\r\\nCamatkarasana/File34.png\\r\\nCamatkarasana/File55.jpeg\\r\\nCamatkarasana/File15.png\\r\\nCamatkarasana/File35.png\\r\\nCamatkarasana/File56.jpeg\\r\\nCamatkarasana/File24.png\\r\\nCamatkarasana/File54.png\\r\\nCamatkarasana/File61.jpeg\\r\\nGarudasana/File28.png\\r\\nGarudasana/File5.png\\r\\nGarudasana/File83.jpeg\\r\\nGarudasana/File48.png\\r\\nGarudasana/File41.png\\r\\nGarudasana/File44.png\\r\\nGarudasana/File82.jpeg\\r\\nGarudasana/File50.png\\r\\nGarudasana/File38.png\\r\\nGarudasana/File31.png\\r\\nGarudasana/File9.png\\r\\nGarudasana/File47.png\\r\\nGarudasana/File15.png\\r\\nGarudasana/File26.png\\r\\nGarudasana/File80.jpeg\\r\\nGarudasana/File65.png\\r\\nGarudasana/File30.png\\r\\nBakasana/File5.png\\r\\nBakasana/File63.png\\r\\nBakasana/File40.png\\r\\nBakasana/File18.png\\r\\nBakasana/File49.png\\r\\nBakasana/File68.png\\r\\nBakasana/File44.png\\r\\nBakasana/File58.png\\r\\nBakasana/File62.png\\r\\nBakasana/File60.png\\r\\nBakasana/File22.png\\r\\nBakasana/File39.png\\r\\nBakasana/File54.png\\r\\nBakasana/File72.png\\r\\nBakasana/File34.png\\r\\nBakasana/File30.png\\r\\n'}"
            ]
          },
          "metadata": {},
          "execution_count": 6
        }
      ],
      "source": [
        "files.upload()"
      ]
    },
    {
      "cell_type": "markdown",
      "metadata": {
        "id": "YFo9c6U2--hm"
      },
      "source": [
        "### Task 3\n",
        "Now let's write some code to copy over all these test images into the test folder we created as well as removing them from the train folder."
      ]
    },
    {
      "cell_type": "code",
      "execution_count": 7,
      "metadata": {
        "id": "Mt00afQK_Ih7"
      },
      "outputs": [],
      "source": [
        "# First let's load the test_images.csv file\n",
        "with open('test_images.csv', 'r') as f_:\n",
        "  reader = csv.reader(f_)\n",
        "  test_image_paths = []\n",
        "  for row in reader:\n",
        "    test_image_paths.append(row[0])"
      ]
    },
    {
      "cell_type": "code",
      "execution_count": 8,
      "metadata": {
        "id": "MYX2AlPPsIot",
        "colab": {
          "base_uri": "https://localhost:8080/"
        },
        "outputId": "a37fce4f-362b-4e41-a817-ad69098d5fdf"
      },
      "outputs": [
        {
          "output_type": "stream",
          "name": "stdout",
          "text": [
            "mv: cannot stat 'train/Virabhadrasana Two/File41.png': No such file or directory\n",
            "mv: cannot stat 'train/Virabhadrasana Two/File15.png': No such file or directory\n",
            "mv: cannot stat 'train/Virabhadrasana Two/File49.png': No such file or directory\n",
            "mv: cannot stat 'train/Virabhadrasana Two/File36.png': No such file or directory\n",
            "mv: cannot stat 'train/Virabhadrasana Two/File29.png': No such file or directory\n",
            "mv: cannot stat 'train/Virabhadrasana Two/File34.png': No such file or directory\n",
            "mv: cannot stat 'train/Virabhadrasana Two/File14.png': No such file or directory\n",
            "mv: cannot stat 'train/Virabhadrasana Two/File61.jpeg': No such file or directory\n",
            "mv: cannot stat 'train/Virabhadrasana Two/File25.png': No such file or directory\n",
            "mv: cannot stat 'train/Virabhadrasana Two/File28.png': No such file or directory\n",
            "mv: cannot stat 'train/Virabhadrasana Two/File44.png': No such file or directory\n",
            "mv: cannot stat 'train/Virabhadrasana Two/File13.png': No such file or directory\n",
            "mv: cannot stat 'train/Upavistha Konasana/File8.jpeg': No such file or directory\n",
            "mv: cannot stat 'train/Upavistha Konasana/File3.jpeg': No such file or directory\n",
            "mv: cannot stat 'train/Upavistha Konasana/File6.jpeg': No such file or directory\n",
            "mv: cannot stat 'train/Setu Bandha Sarvangasana/File65.jpeg': No such file or directory\n",
            "mv: cannot stat 'train/Setu Bandha Sarvangasana/File60.jpg': No such file or directory\n",
            "mv: cannot stat 'train/Setu Bandha Sarvangasana/File41.png': No such file or directory\n",
            "mv: cannot stat 'train/Setu Bandha Sarvangasana/File50.jpg': No such file or directory\n",
            "mv: cannot stat 'train/Setu Bandha Sarvangasana/File6.png': No such file or directory\n",
            "mv: cannot stat 'train/Setu Bandha Sarvangasana/File23.png': No such file or directory\n",
            "mv: cannot stat 'train/Setu Bandha Sarvangasana/File13.png': No such file or directory\n",
            "mv: cannot stat 'train/Setu Bandha Sarvangasana/File48.jpg': No such file or directory\n",
            "mv: cannot stat 'train/Setu Bandha Sarvangasana/File12.png': No such file or directory\n",
            "mv: cannot stat 'train/Setu Bandha Sarvangasana/File15.png': No such file or directory\n",
            "mv: cannot stat 'train/Setu Bandha Sarvangasana/File68.jpeg': No such file or directory\n",
            "mv: cannot stat 'train/Setu Bandha Sarvangasana/File17.png': No such file or directory\n",
            "mv: cannot stat 'train/Setu Bandha Sarvangasana/File4.png': No such file or directory\n",
            "mv: cannot stat 'train/Trikonasana/File6.jpeg': No such file or directory\n",
            "mv: cannot stat 'train/Trikonasana/File1.jpeg': No such file or directory\n",
            "mv: cannot stat 'train/Trikonasana/File22.jpeg': No such file or directory\n",
            "mv: cannot stat 'train/Trikonasana/File13.jpeg': No such file or directory\n",
            "mv: cannot stat 'train/Padmasana/File55.png': No such file or directory\n",
            "mv: cannot stat 'train/Padmasana/File64.png': No such file or directory\n",
            "mv: cannot stat 'train/Padmasana/File21.png': No such file or directory\n",
            "mv: cannot stat 'train/Padmasana/File12.jpg': No such file or directory\n",
            "mv: cannot stat 'train/Padmasana/File76.jpeg': No such file or directory\n",
            "mv: cannot stat 'train/Padmasana/File65.png': No such file or directory\n",
            "mv: cannot stat 'train/Padmasana/File28.png': No such file or directory\n",
            "mv: cannot stat 'train/Padmasana/File72.jpeg': No such file or directory\n",
            "mv: cannot stat 'train/Padmasana/File51.png': No such file or directory\n",
            "mv: cannot stat 'train/Padmasana/File54.jpg': No such file or directory\n",
            "mv: cannot stat 'train/Padmasana/File43.jpg': No such file or directory\n",
            "mv: cannot stat 'train/Padmasana/File6.png': No such file or directory\n",
            "mv: cannot stat 'train/Padmasana/File36.png': No such file or directory\n",
            "mv: cannot stat 'train/Padmasana/File60.png': No such file or directory\n",
            "mv: cannot stat 'train/Padmasana/File34.png': No such file or directory\n",
            "mv: cannot stat 'train/Vrksasana/File17.png': No such file or directory\n",
            "mv: cannot stat 'train/Vrksasana/File58.png': No such file or directory\n",
            "mv: cannot stat 'train/Vrksasana/File31.png': No such file or directory\n",
            "mv: cannot stat 'train/Vrksasana/File63.jpeg': No such file or directory\n",
            "mv: cannot stat 'train/Vrksasana/File57.png': No such file or directory\n",
            "mv: cannot stat 'train/Vrksasana/File13.png': No such file or directory\n",
            "mv: cannot stat 'train/Vrksasana/File51.png': No such file or directory\n",
            "mv: cannot stat 'train/Vrksasana/File45.png': No such file or directory\n",
            "mv: cannot stat 'train/Vrksasana/File66.jpeg': No such file or directory\n",
            "mv: cannot stat 'train/Vrksasana/File12.png': No such file or directory\n",
            "mv: cannot stat 'train/Vrksasana/File48.png': No such file or directory\n",
            "mv: cannot stat 'train/Vrksasana/File35.png': No such file or directory\n",
            "mv: cannot stat 'train/Vrksasana/File52.png': No such file or directory\n",
            "mv: cannot stat 'train/Navasana/File18.jpeg': No such file or directory\n",
            "mv: cannot stat 'train/Navasana/File10.jpeg': No such file or directory\n",
            "mv: cannot stat 'train/Navasana/File4.jpeg': No such file or directory\n",
            "mv: cannot stat 'train/Ardha Pincha Mayurasana/File32.png': No such file or directory\n",
            "mv: cannot stat 'train/Ardha Pincha Mayurasana/File33.png': No such file or directory\n",
            "mv: cannot stat 'train/Ardha Pincha Mayurasana/File18.png': No such file or directory\n",
            "mv: cannot stat 'train/Ardha Pincha Mayurasana/File10.png': No such file or directory\n",
            "mv: cannot stat 'train/Ardha Pincha Mayurasana/File53.jpeg': No such file or directory\n",
            "mv: cannot stat 'train/Ardha Pincha Mayurasana/File13.png': No such file or directory\n",
            "mv: cannot stat 'train/Ardha Pincha Mayurasana/File24.png': No such file or directory\n",
            "mv: cannot stat 'train/Ardha Pincha Mayurasana/File14.png': No such file or directory\n",
            "mv: cannot stat 'train/Ardha Pincha Mayurasana/File54.png': No such file or directory\n",
            "mv: cannot stat 'train/Ardha Pincha Mayurasana/File37.png': No such file or directory\n",
            "mv: cannot stat 'train/Parsvottanasana/File4.png': No such file or directory\n",
            "mv: cannot stat 'train/Parsvottanasana/File30.png': No such file or directory\n",
            "mv: cannot stat 'train/Parsvottanasana/File43.jpeg': No such file or directory\n",
            "mv: cannot stat 'train/Parsvottanasana/File18.png': No such file or directory\n",
            "mv: cannot stat 'train/Parsvottanasana/File20.png': No such file or directory\n",
            "mv: cannot stat 'train/Parsvottanasana/File2.png': No such file or directory\n",
            "mv: cannot stat 'train/Parsvottanasana/File12.png': No such file or directory\n",
            "mv: cannot stat 'train/Parsvottanasana/File6.png': No such file or directory\n",
            "mv: cannot stat 'train/Eka Pada Rajakapotasana/File7.png': No such file or directory\n",
            "mv: cannot stat 'train/Eka Pada Rajakapotasana/File13.png': No such file or directory\n",
            "mv: cannot stat 'train/Eka Pada Rajakapotasana/File46.jpeg': No such file or directory\n",
            "mv: cannot stat 'train/Eka Pada Rajakapotasana/File28.png': No such file or directory\n",
            "mv: cannot stat 'train/Eka Pada Rajakapotasana/File37.png': No such file or directory\n",
            "mv: cannot stat 'train/Eka Pada Rajakapotasana/File40.png': No such file or directory\n",
            "mv: cannot stat 'train/Eka Pada Rajakapotasana/File34.png': No such file or directory\n",
            "mv: cannot stat 'train/Eka Pada Rajakapotasana/File39.png': No such file or directory\n",
            "mv: cannot stat 'train/Eka Pada Rajakapotasana/File31.png': No such file or directory\n",
            "mv: cannot stat 'train/Eka Pada Rajakapotasana/File48.jpeg': No such file or directory\n",
            "mv: cannot stat 'train/Urdhva Mukha Svsnssana/File13.png': No such file or directory\n",
            "mv: cannot stat 'train/Urdhva Mukha Svsnssana/File52.png': No such file or directory\n",
            "mv: cannot stat 'train/Urdhva Mukha Svsnssana/File54.png': No such file or directory\n",
            "mv: cannot stat 'train/Urdhva Mukha Svsnssana/File5.png': No such file or directory\n",
            "mv: cannot stat 'train/Urdhva Mukha Svsnssana/File67.jpeg': No such file or directory\n",
            "mv: cannot stat 'train/Urdhva Mukha Svsnssana/File44.png': No such file or directory\n",
            "mv: cannot stat 'train/Urdhva Mukha Svsnssana/File66.jpeg': No such file or directory\n",
            "mv: cannot stat 'train/Urdhva Mukha Svsnssana/File10.png': No such file or directory\n",
            "mv: cannot stat 'train/Urdhva Mukha Svsnssana/File49.png': No such file or directory\n",
            "mv: cannot stat 'train/Urdhva Mukha Svsnssana/File18.png': No such file or directory\n",
            "mv: cannot stat 'train/Urdhva Mukha Svsnssana/File27.png': No such file or directory\n",
            "mv: cannot stat 'train/Urdhva Mukha Svsnssana/File56.png': No such file or directory\n",
            "mv: cannot stat 'train/Urdhva Mukha Svsnssana/File38.png': No such file or directory\n",
            "mv: cannot stat 'train/Ardha Navasana/File12.png': No such file or directory\n",
            "mv: cannot stat 'train/Ardha Navasana/File9.jpeg': No such file or directory\n",
            "mv: cannot stat 'train/Ustrasana/File54.png': No such file or directory\n",
            "mv: cannot stat 'train/Ustrasana/File28.png': No such file or directory\n",
            "mv: cannot stat 'train/Ustrasana/File71.png': No such file or directory\n",
            "mv: cannot stat 'train/Ustrasana/File44.png': No such file or directory\n",
            "mv: cannot stat 'train/Ustrasana/File65.png': No such file or directory\n",
            "mv: cannot stat 'train/Ustrasana/File61.png': No such file or directory\n",
            "mv: cannot stat 'train/Ustrasana/File77.png': No such file or directory\n",
            "mv: cannot stat 'train/Ustrasana/File59.png': No such file or directory\n",
            "mv: cannot stat 'train/Ustrasana/File12.png': No such file or directory\n",
            "mv: cannot stat 'train/Ustrasana/File89.jpeg': No such file or directory\n",
            "mv: cannot stat 'train/Ustrasana/File45.png': No such file or directory\n",
            "mv: cannot stat 'train/Ustrasana/File55.png': No such file or directory\n",
            "mv: cannot stat 'train/Ustrasana/File53.png': No such file or directory\n",
            "mv: cannot stat 'train/Ustrasana/File15.png': No such file or directory\n",
            "mv: cannot stat 'train/Ustrasana/File37.png': No such file or directory\n",
            "mv: cannot stat 'train/Ustrasana/File5.png': No such file or directory\n",
            "mv: cannot stat 'train/Ustrasana/File82.png': No such file or directory\n",
            "mv: cannot stat 'train/Ustrasana/File14.png': No such file or directory\n",
            "mv: cannot stat 'train/Ustrasana/File66.png': No such file or directory\n",
            "mv: cannot stat 'train/Virabhadrasana One/File7.png': No such file or directory\n",
            "mv: cannot stat 'train/Virabhadrasana One/File34.png': No such file or directory\n",
            "mv: cannot stat 'train/Virabhadrasana One/File18.png': No such file or directory\n",
            "mv: cannot stat 'train/Virabhadrasana One/File57.jpeg': No such file or directory\n",
            "mv: cannot stat 'train/Virabhadrasana One/File15.png': No such file or directory\n",
            "mv: cannot stat 'train/Virabhadrasana One/File43.png': No such file or directory\n",
            "mv: cannot stat 'train/Virabhadrasana One/File6.png': No such file or directory\n",
            "mv: cannot stat 'train/Virabhadrasana One/File63.jpeg': No such file or directory\n",
            "mv: cannot stat 'train/Virabhadrasana One/File42.png': No such file or directory\n",
            "mv: cannot stat 'train/Virabhadrasana One/File5.png': No such file or directory\n",
            "mv: cannot stat 'train/Virabhadrasana One/File24.png': No such file or directory\n",
            "mv: cannot stat 'train/Virabhadrasana One/File28.png': No such file or directory\n",
            "mv: cannot stat 'train/Utthita Hasta Padangusthasana/File60.jpeg': No such file or directory\n",
            "mv: cannot stat 'train/Utthita Hasta Padangusthasana/File3.png': No such file or directory\n",
            "mv: cannot stat 'train/Utthita Hasta Padangusthasana/File56.png': No such file or directory\n",
            "mv: cannot stat 'train/Utthita Hasta Padangusthasana/File17.png': No such file or directory\n",
            "mv: cannot stat 'train/Utthita Hasta Padangusthasana/File15.png': No such file or directory\n",
            "mv: cannot stat 'train/Utthita Hasta Padangusthasana/File18.png': No such file or directory\n",
            "mv: cannot stat 'train/Utthita Hasta Padangusthasana/File2.png': No such file or directory\n",
            "mv: cannot stat 'train/Utthita Hasta Padangusthasana/File28.png': No such file or directory\n",
            "mv: cannot stat 'train/Utthita Hasta Padangusthasana/File61.png': No such file or directory\n",
            "mv: cannot stat 'train/Utthita Hasta Padangusthasana/File11.png': No such file or directory\n",
            "mv: cannot stat 'train/Utthita Hasta Padangusthasana/File57.png': No such file or directory\n",
            "mv: cannot stat 'train/Utthita Hasta Padangusthasana/File31.png': No such file or directory\n",
            "mv: cannot stat 'train/Hanumanasana/File10.png': No such file or directory\n",
            "mv: cannot stat 'train/Hanumanasana/File8.png': No such file or directory\n",
            "mv: cannot stat 'train/Hanumanasana/File13.png': No such file or directory\n",
            "mv: cannot stat 'train/Hanumanasana/File2.png': No such file or directory\n",
            "mv: cannot stat 'train/Hanumanasana/File29.png': No such file or directory\n",
            "mv: cannot stat 'train/Hanumanasana/File12.png': No such file or directory\n",
            "mv: cannot stat 'train/Hanumanasana/File31.png': No such file or directory\n",
            "mv: cannot stat 'train/Hanumanasana/File40.jpeg': No such file or directory\n",
            "mv: cannot stat 'train/Adho Mukha Vrksasana/File42.png': No such file or directory\n",
            "mv: cannot stat 'train/Adho Mukha Vrksasana/File20.png': No such file or directory\n",
            "mv: cannot stat 'train/Adho Mukha Vrksasana/File52.png': No such file or directory\n",
            "mv: cannot stat 'train/Adho Mukha Vrksasana/File27.png': No such file or directory\n",
            "mv: cannot stat 'train/Adho Mukha Vrksasana/File48.png': No such file or directory\n",
            "mv: cannot stat 'train/Adho Mukha Vrksasana/File21.png': No such file or directory\n",
            "mv: cannot stat 'train/Adho Mukha Vrksasana/File35.png': No such file or directory\n",
            "mv: cannot stat 'train/Adho Mukha Vrksasana/File62.jpeg': No such file or directory\n",
            "mv: cannot stat 'train/Adho Mukha Vrksasana/File10.png': No such file or directory\n",
            "mv: cannot stat 'train/Adho Mukha Vrksasana/File29.png': No such file or directory\n",
            "mv: cannot stat 'train/Adho Mukha Vrksasana/File59.png': No such file or directory\n",
            "mv: cannot stat 'train/Adho Mukha Vrksasana/File5.png': No such file or directory\n",
            "mv: cannot stat 'train/Adho Mukha Vrksasana/File2.png': No such file or directory\n",
            "mv: cannot stat 'train/Ashta Chandrasana/File10.jpeg': No such file or directory\n",
            "mv: cannot stat 'train/Ashta Chandrasana/File9.jpeg': No such file or directory\n",
            "mv: cannot stat 'train/Paschimottanasana/File29.png': No such file or directory\n",
            "mv: cannot stat 'train/Paschimottanasana/File51.png': No such file or directory\n",
            "mv: cannot stat 'train/Paschimottanasana/File4.png': No such file or directory\n",
            "mv: cannot stat 'train/Paschimottanasana/File52.png': No such file or directory\n",
            "mv: cannot stat 'train/Paschimottanasana/File21.png': No such file or directory\n",
            "mv: cannot stat 'train/Paschimottanasana/File10.png': No such file or directory\n",
            "mv: cannot stat 'train/Paschimottanasana/File36.png': No such file or directory\n",
            "mv: cannot stat 'train/Paschimottanasana/File37.png': No such file or directory\n",
            "mv: cannot stat 'train/Paschimottanasana/File9.png': No such file or directory\n",
            "mv: cannot stat 'train/Paschimottanasana/File53.png': No such file or directory\n",
            "mv: cannot stat 'train/Paschimottanasana/File28.png': No such file or directory\n",
            "mv: cannot stat 'train/Paschimottanasana/File15.png': No such file or directory\n",
            "mv: cannot stat 'train/Baddha Konasana/File76.jpeg': No such file or directory\n",
            "mv: cannot stat 'train/Baddha Konasana/File80.jpeg': No such file or directory\n",
            "mv: cannot stat 'train/Baddha Konasana/File16.png': No such file or directory\n",
            "mv: cannot stat 'train/Baddha Konasana/File7.png': No such file or directory\n",
            "mv: cannot stat 'train/Baddha Konasana/File47.png': No such file or directory\n",
            "mv: cannot stat 'train/Baddha Konasana/File37.png': No such file or directory\n",
            "mv: cannot stat 'train/Baddha Konasana/File67.png': No such file or directory\n",
            "mv: cannot stat 'train/Baddha Konasana/File73.jpeg': No such file or directory\n",
            "mv: cannot stat 'train/Baddha Konasana/File44.png': No such file or directory\n",
            "mv: cannot stat 'train/Baddha Konasana/File59.jpg': No such file or directory\n",
            "mv: cannot stat 'train/Baddha Konasana/File22.png': No such file or directory\n",
            "mv: cannot stat 'train/Baddha Konasana/File21.jpg': No such file or directory\n",
            "mv: cannot stat 'train/Baddha Konasana/File9.png': No such file or directory\n",
            "mv: cannot stat 'train/Baddha Konasana/File69.png': No such file or directory\n",
            "mv: cannot stat 'train/Baddha Konasana/File78.jpeg': No such file or directory\n",
            "mv: cannot stat 'train/Baddha Konasana/File29.png': No such file or directory\n",
            "mv: cannot stat 'train/Bitilasana/File68.png': No such file or directory\n",
            "mv: cannot stat 'train/Bitilasana/File78.png': No such file or directory\n",
            "mv: cannot stat 'train/Bitilasana/File1.png': No such file or directory\n",
            "mv: cannot stat 'train/Bitilasana/File17.png': No such file or directory\n",
            "mv: cannot stat 'train/Bitilasana/File74.png': No such file or directory\n",
            "mv: cannot stat 'train/Bitilasana/File43.png': No such file or directory\n",
            "mv: cannot stat 'train/Bitilasana/File21.png': No such file or directory\n",
            "mv: cannot stat 'train/Bitilasana/File12.png': No such file or directory\n",
            "mv: cannot stat 'train/Bitilasana/File24.png': No such file or directory\n",
            "mv: cannot stat 'train/Bitilasana/File3.png': No such file or directory\n",
            "mv: cannot stat 'train/Bitilasana/File13.png': No such file or directory\n",
            "mv: cannot stat 'train/Bitilasana/File33.png': No such file or directory\n",
            "mv: cannot stat 'train/Bitilasana/File60.png': No such file or directory\n",
            "mv: cannot stat 'train/Bitilasana/File56.png': No such file or directory\n",
            "mv: cannot stat 'train/Bitilasana/File39.png': No such file or directory\n",
            "mv: cannot stat 'train/Bitilasana/File7.png': No such file or directory\n",
            "mv: cannot stat 'train/Bitilasana/File34.png': No such file or directory\n",
            "mv: cannot stat 'train/Bitilasana/File63.png': No such file or directory\n",
            "mv: cannot stat 'train/Salamba Sarvangasana/File12.png': No such file or directory\n",
            "mv: cannot stat 'train/Salamba Sarvangasana/File24.png': No such file or directory\n",
            "mv: cannot stat 'train/Salamba Sarvangasana/File65.png': No such file or directory\n",
            "mv: cannot stat 'train/Salamba Sarvangasana/File20.png': No such file or directory\n",
            "mv: cannot stat 'train/Salamba Sarvangasana/File56.png': No such file or directory\n",
            "mv: cannot stat 'train/Salamba Sarvangasana/File69.jpeg': No such file or directory\n",
            "mv: cannot stat 'train/Salamba Sarvangasana/File45.png': No such file or directory\n",
            "mv: cannot stat 'train/Salamba Sarvangasana/File14.png': No such file or directory\n",
            "mv: cannot stat 'train/Salamba Sarvangasana/File33.png': No such file or directory\n",
            "mv: cannot stat 'train/Salamba Sarvangasana/File57.png': No such file or directory\n",
            "mv: cannot stat 'train/Salamba Sarvangasana/File36.png': No such file or directory\n",
            "mv: cannot stat 'train/Salamba Sarvangasana/File22.png': No such file or directory\n",
            "mv: cannot stat 'train/Salamba Sarvangasana/File53.png': No such file or directory\n",
            "mv: cannot stat 'train/Salamba Sarvangasana/File51.png': No such file or directory\n",
            "mv: cannot stat 'train/Urdhva Dhanurasana/File33.png': No such file or directory\n",
            "mv: cannot stat 'train/Urdhva Dhanurasana/File73.jpeg': No such file or directory\n",
            "mv: cannot stat 'train/Urdhva Dhanurasana/File38.png': No such file or directory\n",
            "mv: cannot stat 'train/Urdhva Dhanurasana/File12.png': No such file or directory\n",
            "mv: cannot stat 'train/Urdhva Dhanurasana/File13.png': No such file or directory\n",
            "mv: cannot stat 'train/Urdhva Dhanurasana/File63.png': No such file or directory\n",
            "mv: cannot stat 'train/Urdhva Dhanurasana/File54.png': No such file or directory\n",
            "mv: cannot stat 'train/Urdhva Dhanurasana/File17.png': No such file or directory\n",
            "mv: cannot stat 'train/Urdhva Dhanurasana/File11.png': No such file or directory\n",
            "mv: cannot stat 'train/Urdhva Dhanurasana/File69.jpeg': No such file or directory\n",
            "mv: cannot stat 'train/Urdhva Dhanurasana/File27.png': No such file or directory\n",
            "mv: cannot stat 'train/Urdhva Dhanurasana/File39.png': No such file or directory\n",
            "mv: cannot stat 'train/Urdhva Dhanurasana/File35.jpeg': No such file or directory\n",
            "mv: cannot stat 'train/Urdhva Dhanurasana/File14.png': No such file or directory\n",
            "mv: cannot stat 'train/Uttanasana/File37.png': No such file or directory\n",
            "mv: cannot stat 'train/Uttanasana/File11.png': No such file or directory\n",
            "mv: cannot stat 'train/Uttanasana/File45.png': No such file or directory\n",
            "mv: cannot stat 'train/Uttanasana/File41.png': No such file or directory\n",
            "mv: cannot stat 'train/Uttanasana/File55.png': No such file or directory\n",
            "mv: cannot stat 'train/Uttanasana/File10.png': No such file or directory\n",
            "mv: cannot stat 'train/Uttanasana/File9.png': No such file or directory\n",
            "mv: cannot stat 'train/Uttanasana/File29.png': No such file or directory\n",
            "mv: cannot stat 'train/Uttanasana/File35.png': No such file or directory\n",
            "mv: cannot stat 'train/Uttanasana/File30.png': No such file or directory\n",
            "mv: cannot stat 'train/Uttanasana/File67.jpeg': No such file or directory\n",
            "mv: cannot stat 'train/Uttanasana/File53.png': No such file or directory\n",
            "mv: cannot stat 'train/Uttanasana/File56.png': No such file or directory\n",
            "mv: cannot stat 'train/Uttanasana/File57.png': No such file or directory\n",
            "mv: cannot stat 'train/Balasana/File11.png': No such file or directory\n",
            "mv: cannot stat 'train/Balasana/File65.png': No such file or directory\n",
            "mv: cannot stat 'train/Balasana/File64.png': No such file or directory\n",
            "mv: cannot stat 'train/Balasana/File23.png': No such file or directory\n",
            "mv: cannot stat 'train/Balasana/File36.png': No such file or directory\n",
            "mv: cannot stat 'train/Balasana/File67.png': No such file or directory\n",
            "mv: cannot stat 'train/Balasana/File3.png': No such file or directory\n",
            "mv: cannot stat 'train/Balasana/File79.jpeg': No such file or directory\n",
            "mv: cannot stat 'train/Balasana/File49.png': No such file or directory\n",
            "mv: cannot stat 'train/Balasana/File69.png': No such file or directory\n",
            "mv: cannot stat 'train/Balasana/File43.png': No such file or directory\n",
            "mv: cannot stat 'train/Balasana/File9.png': No such file or directory\n",
            "mv: cannot stat 'train/Balasana/File70.png': No such file or directory\n",
            "mv: cannot stat 'train/Balasana/File7.png': No such file or directory\n",
            "mv: cannot stat 'train/Balasana/File74.jpeg': No such file or directory\n",
            "mv: cannot stat 'train/Phalakasana/File64.jpeg': No such file or directory\n",
            "mv: cannot stat 'train/Phalakasana/File14.png': No such file or directory\n",
            "mv: cannot stat 'train/Phalakasana/File58.jpeg': No such file or directory\n",
            "mv: cannot stat 'train/Phalakasana/File6.png': No such file or directory\n",
            "mv: cannot stat 'train/Phalakasana/File31.png': No such file or directory\n",
            "mv: cannot stat 'train/Phalakasana/File26.png': No such file or directory\n",
            "mv: cannot stat 'train/Phalakasana/File4.png': No such file or directory\n",
            "mv: cannot stat 'train/Phalakasana/File22.png': No such file or directory\n",
            "mv: cannot stat 'train/Phalakasana/File41.png': No such file or directory\n",
            "mv: cannot stat 'train/Phalakasana/File28.png': No such file or directory\n",
            "mv: cannot stat 'train/Phalakasana/File25.png': No such file or directory\n",
            "mv: cannot stat 'train/Phalakasana/File5.png': No such file or directory\n",
            "mv: cannot stat 'train/Phalakasana/File34.png': No such file or directory\n",
            "mv: cannot stat 'train/Pincha Mayurasana/File22.png': No such file or directory\n",
            "mv: cannot stat 'train/Pincha Mayurasana/File27.png': No such file or directory\n",
            "mv: cannot stat 'train/Pincha Mayurasana/File4.png': No such file or directory\n",
            "mv: cannot stat 'train/Pincha Mayurasana/File42.jpeg': No such file or directory\n",
            "mv: cannot stat 'train/Pincha Mayurasana/File21.png': No such file or directory\n",
            "mv: cannot stat 'train/Pincha Mayurasana/File17.png': No such file or directory\n",
            "mv: cannot stat 'train/Pincha Mayurasana/File30.png': No such file or directory\n",
            "mv: cannot stat 'train/Pincha Mayurasana/File41.jpeg': No such file or directory\n",
            "mv: cannot stat 'train/Halasana/File41.png': No such file or directory\n",
            "mv: cannot stat 'train/Halasana/File64.png': No such file or directory\n",
            "mv: cannot stat 'train/Halasana/File12.png': No such file or directory\n",
            "mv: cannot stat 'train/Halasana/File20.png': No such file or directory\n",
            "mv: cannot stat 'train/Halasana/File71.jpeg': No such file or directory\n",
            "mv: cannot stat 'train/Halasana/File66.png': No such file or directory\n",
            "mv: cannot stat 'train/Halasana/File69.jpeg': No such file or directory\n",
            "mv: cannot stat 'train/Halasana/File57.png': No such file or directory\n",
            "mv: cannot stat 'train/Halasana/File62.png': No such file or directory\n",
            "mv: cannot stat 'train/Halasana/File63.png': No such file or directory\n",
            "mv: cannot stat 'train/Halasana/File61.png': No such file or directory\n",
            "mv: cannot stat 'train/Halasana/File36.png': No such file or directory\n",
            "mv: cannot stat 'train/Halasana/File58.png': No such file or directory\n",
            "mv: cannot stat 'train/Halasana/File51.png': No such file or directory\n",
            "mv: cannot stat 'train/Alanasana/File15.jpeg': No such file or directory\n",
            "mv: cannot stat 'train/Alanasana/File8.jpeg': No such file or directory\n",
            "mv: cannot stat 'train/Alanasana/File12.jpeg': No such file or directory\n",
            "mv: cannot stat 'train/Malasana/File33.png': No such file or directory\n",
            "mv: cannot stat 'train/Malasana/File43.png': No such file or directory\n",
            "mv: cannot stat 'train/Malasana/File12.png': No such file or directory\n",
            "mv: cannot stat 'train/Malasana/File9.png': No such file or directory\n",
            "mv: cannot stat 'train/Malasana/File72.jpeg': No such file or directory\n",
            "mv: cannot stat 'train/Malasana/File27.png': No such file or directory\n",
            "mv: cannot stat 'train/Malasana/File56.png': No such file or directory\n",
            "mv: cannot stat 'train/Malasana/File5.png': No such file or directory\n",
            "mv: cannot stat 'train/Malasana/File52.png': No such file or directory\n",
            "mv: cannot stat 'train/Malasana/File48.png': No such file or directory\n",
            "mv: cannot stat 'train/Malasana/File10.png': No such file or directory\n",
            "mv: cannot stat 'train/Malasana/File38.png': No such file or directory\n",
            "mv: cannot stat 'train/Malasana/File34.png': No such file or directory\n",
            "mv: cannot stat 'train/Malasana/File24.png': No such file or directory\n",
            "mv: cannot stat 'train/Utthita Parsvakonasana/File1.png': No such file or directory\n",
            "mv: cannot stat 'train/Utthita Parsvakonasana/File24.png': No such file or directory\n",
            "mv: cannot stat 'train/Utthita Parsvakonasana/File18.png': No such file or directory\n",
            "mv: cannot stat 'train/Utthita Parsvakonasana/File69.jpeg': No such file or directory\n",
            "mv: cannot stat 'train/Utthita Parsvakonasana/File33.png': No such file or directory\n",
            "mv: cannot stat 'train/Utthita Parsvakonasana/File17.png': No such file or directory\n",
            "mv: cannot stat 'train/Utthita Parsvakonasana/File65.jpeg': No such file or directory\n",
            "mv: cannot stat 'train/Utthita Parsvakonasana/File23.png': No such file or directory\n",
            "mv: cannot stat 'train/Utthita Parsvakonasana/File34.png': No such file or directory\n",
            "mv: cannot stat 'train/Utthita Parsvakonasana/File4.png': No such file or directory\n",
            "mv: cannot stat 'train/Utthita Parsvakonasana/File37.png': No such file or directory\n",
            "mv: cannot stat 'train/Utthita Parsvakonasana/File46.png': No such file or directory\n",
            "mv: cannot stat 'train/Utthita Parsvakonasana/File22.jpeg': No such file or directory\n",
            "mv: cannot stat 'train/Anjaneyasana/File10.png': No such file or directory\n",
            "mv: cannot stat 'train/Anjaneyasana/File17.png': No such file or directory\n",
            "mv: cannot stat 'train/Anjaneyasana/File16.png': No such file or directory\n",
            "mv: cannot stat 'train/Anjaneyasana/File59.png': No such file or directory\n",
            "mv: cannot stat 'train/Anjaneyasana/File45.png': No such file or directory\n",
            "mv: cannot stat 'train/Anjaneyasana/File56.png': No such file or directory\n",
            "mv: cannot stat 'train/Anjaneyasana/File19.png': No such file or directory\n",
            "mv: cannot stat 'train/Anjaneyasana/File28.png': No such file or directory\n",
            "mv: cannot stat 'train/Anjaneyasana/File57.png': No such file or directory\n",
            "mv: cannot stat 'train/Anjaneyasana/File6.png': No such file or directory\n",
            "mv: cannot stat 'train/Anjaneyasana/File70.jpeg': No such file or directory\n",
            "mv: cannot stat 'train/Anjaneyasana/File37.png': No such file or directory\n",
            "mv: cannot stat 'train/Anjaneyasana/File24.png': No such file or directory\n",
            "mv: cannot stat 'train/Anjaneyasana/File15.png': No such file or directory\n",
            "mv: cannot stat 'train/Sivasana/File14.jpeg': No such file or directory\n",
            "mv: cannot stat 'train/Sivasana/File12.jpeg': No such file or directory\n",
            "mv: cannot stat 'train/Sivasana/File2.png': No such file or directory\n",
            "mv: cannot stat 'train/Sivasana/File19.jpeg': No such file or directory\n",
            "mv: cannot stat 'train/Dhanurasana/File41.png': No such file or directory\n",
            "mv: cannot stat 'train/Dhanurasana/File23.png': No such file or directory\n",
            "mv: cannot stat 'train/Dhanurasana/File54.png': No such file or directory\n",
            "mv: cannot stat 'train/Dhanurasana/File20.png': No such file or directory\n",
            "mv: cannot stat 'train/Dhanurasana/File8.png': No such file or directory\n",
            "mv: cannot stat 'train/Dhanurasana/File45.png': No such file or directory\n",
            "mv: cannot stat 'train/Dhanurasana/File1.png': No such file or directory\n",
            "mv: cannot stat 'train/Dhanurasana/File11.png': No such file or directory\n",
            "mv: cannot stat 'train/Dhanurasana/File48.jpeg': No such file or directory\n",
            "mv: cannot stat 'train/Dhanurasana/File25.png': No such file or directory\n",
            "mv: cannot stat 'train/Parsva Virabhadrasana/File6.jpeg': No such file or directory\n",
            "mv: cannot stat 'train/Parsva Virabhadrasana/File1.jpeg': No such file or directory\n",
            "mv: cannot stat 'train/Salamba Bhujangasana/File58.jpeg': No such file or directory\n",
            "mv: cannot stat 'train/Salamba Bhujangasana/File24.png': No such file or directory\n",
            "mv: cannot stat 'train/Salamba Bhujangasana/File14.png': No such file or directory\n",
            "mv: cannot stat 'train/Salamba Bhujangasana/File39.png': No such file or directory\n",
            "mv: cannot stat 'train/Salamba Bhujangasana/File48.png': No such file or directory\n",
            "mv: cannot stat 'train/Salamba Bhujangasana/File12.png': No such file or directory\n",
            "mv: cannot stat 'train/Salamba Bhujangasana/File41.png': No such file or directory\n",
            "mv: cannot stat 'train/Salamba Bhujangasana/File35.png': No such file or directory\n",
            "mv: cannot stat 'train/Salamba Bhujangasana/File20.png': No such file or directory\n",
            "mv: cannot stat 'train/Salamba Bhujangasana/File9.png': No such file or directory\n",
            "mv: cannot stat 'train/Salamba Bhujangasana/File22.png': No such file or directory\n",
            "mv: cannot stat 'train/Salamba Bhujangasana/File19.png': No such file or directory\n",
            "mv: cannot stat 'train/Ardha Chandrasana/File26.png': No such file or directory\n",
            "mv: cannot stat 'train/Ardha Chandrasana/File43.png': No such file or directory\n",
            "mv: cannot stat 'train/Ardha Chandrasana/File13.png': No such file or directory\n",
            "mv: cannot stat 'train/Ardha Chandrasana/File15.png': No such file or directory\n",
            "mv: cannot stat 'train/Ardha Chandrasana/File59.jpeg': No such file or directory\n",
            "mv: cannot stat 'train/Ardha Chandrasana/File50.png': No such file or directory\n",
            "mv: cannot stat 'train/Ardha Chandrasana/File32.png': No such file or directory\n",
            "mv: cannot stat 'train/Ardha Chandrasana/File34.png': No such file or directory\n",
            "mv: cannot stat 'train/Ardha Chandrasana/File3.png': No such file or directory\n",
            "mv: cannot stat 'train/Ardha Chandrasana/File44.png': No such file or directory\n",
            "mv: cannot stat 'train/Ardha Chandrasana/File52.png': No such file or directory\n",
            "mv: cannot stat 'train/Supta Kapotasana/File2.png': No such file or directory\n",
            "mv: cannot stat 'train/Supta Kapotasana/File1.jpeg': No such file or directory\n",
            "mv: cannot stat 'train/Utkatasana/File76.jpeg': No such file or directory\n",
            "mv: cannot stat 'train/Utkatasana/File8.png': No such file or directory\n",
            "mv: cannot stat 'train/Utkatasana/File17.png': No such file or directory\n",
            "mv: cannot stat 'train/Utkatasana/File61.png': No such file or directory\n",
            "mv: cannot stat 'train/Utkatasana/File56.png': No such file or directory\n",
            "mv: cannot stat 'train/Utkatasana/File80.jpeg': No such file or directory\n",
            "mv: cannot stat 'train/Utkatasana/File33.png': No such file or directory\n",
            "mv: cannot stat 'train/Utkatasana/File72.png': No such file or directory\n",
            "mv: cannot stat 'train/Utkatasana/File34.png': No such file or directory\n",
            "mv: cannot stat 'train/Utkatasana/File66.png': No such file or directory\n",
            "mv: cannot stat 'train/Utkatasana/File46.png': No such file or directory\n",
            "mv: cannot stat 'train/Utkatasana/File41.png': No such file or directory\n",
            "mv: cannot stat 'train/Utkatasana/File74.jpeg': No such file or directory\n",
            "mv: cannot stat 'train/Utkatasana/File19.png': No such file or directory\n",
            "mv: cannot stat 'train/Utkatasana/File44.png': No such file or directory\n",
            "mv: cannot stat 'train/Utkatasana/File51.png': No such file or directory\n",
            "mv: cannot stat 'train/Marjaryasana/File11.png': No such file or directory\n",
            "mv: cannot stat 'train/Marjaryasana/File50.jpeg': No such file or directory\n",
            "mv: cannot stat 'train/Marjaryasana/File53.jpeg': No such file or directory\n",
            "mv: cannot stat 'train/Marjaryasana/File30.png': No such file or directory\n",
            "mv: cannot stat 'train/Marjaryasana/File31.png': No such file or directory\n",
            "mv: cannot stat 'train/Marjaryasana/File52.jpeg': No such file or directory\n",
            "mv: cannot stat 'train/Marjaryasana/File51.jpeg': No such file or directory\n",
            "mv: cannot stat 'train/Marjaryasana/File14.png': No such file or directory\n",
            "mv: cannot stat 'train/Marjaryasana/File29.png': No such file or directory\n",
            "mv: cannot stat 'train/Marjaryasana/File4.png': No such file or directory\n",
            "mv: cannot stat 'train/Marjaryasana/File36.png': No such file or directory\n",
            "mv: cannot stat 'train/Virabhadrasana Three/File17.png': No such file or directory\n",
            "mv: cannot stat 'train/Virabhadrasana Three/File35.png': No such file or directory\n",
            "mv: cannot stat 'train/Virabhadrasana Three/File28.png': No such file or directory\n",
            "mv: cannot stat 'train/Virabhadrasana Three/File62.jpeg': No such file or directory\n",
            "mv: cannot stat 'train/Virabhadrasana Three/File29.png': No such file or directory\n",
            "mv: cannot stat 'train/Virabhadrasana Three/File42.png': No such file or directory\n",
            "mv: cannot stat 'train/Virabhadrasana Three/File15.png': No such file or directory\n",
            "mv: cannot stat 'train/Virabhadrasana Three/File14.png': No such file or directory\n",
            "mv: cannot stat 'train/Virabhadrasana Three/File39.png': No such file or directory\n",
            "mv: cannot stat 'train/Virabhadrasana Three/File59.png': No such file or directory\n",
            "mv: cannot stat 'train/Virabhadrasana Three/File21.png': No such file or directory\n",
            "mv: cannot stat 'train/Virabhadrasana Three/File7.png': No such file or directory\n",
            "mv: cannot stat 'train/Virabhadrasana Three/File54.png': No such file or directory\n",
            "mv: cannot stat 'train/Ardha Matsyendrasana/File72.png': No such file or directory\n",
            "mv: cannot stat 'train/Ardha Matsyendrasana/File42.png': No such file or directory\n",
            "mv: cannot stat 'train/Ardha Matsyendrasana/File87.png': No such file or directory\n",
            "mv: cannot stat 'train/Ardha Matsyendrasana/File45.png': No such file or directory\n",
            "mv: cannot stat 'train/Ardha Matsyendrasana/File17.png': No such file or directory\n",
            "mv: cannot stat 'train/Ardha Matsyendrasana/File24.png': No such file or directory\n",
            "mv: cannot stat 'train/Ardha Matsyendrasana/File79.png': No such file or directory\n",
            "mv: cannot stat 'train/Ardha Matsyendrasana/File68.png': No such file or directory\n",
            "mv: cannot stat 'train/Ardha Matsyendrasana/File59.png': No such file or directory\n",
            "mv: cannot stat 'train/Ardha Matsyendrasana/File20.png': No such file or directory\n",
            "mv: cannot stat 'train/Ardha Matsyendrasana/File40.png': No such file or directory\n",
            "mv: cannot stat 'train/Ardha Matsyendrasana/File12.png': No such file or directory\n",
            "mv: cannot stat 'train/Ardha Matsyendrasana/File37.png': No such file or directory\n",
            "mv: cannot stat 'train/Ardha Matsyendrasana/File27.png': No such file or directory\n",
            "mv: cannot stat 'train/Ardha Matsyendrasana/File51.png': No such file or directory\n",
            "mv: cannot stat 'train/Ardha Matsyendrasana/File63.png': No such file or directory\n",
            "mv: cannot stat 'train/Ardha Matsyendrasana/File96.jpeg': No such file or directory\n",
            "mv: cannot stat 'train/Ardha Matsyendrasana/File49.png': No such file or directory\n",
            "mv: cannot stat 'train/Ardha Matsyendrasana/File73.png': No such file or directory\n",
            "mv: cannot stat 'train/Vasisthasana/File74.png': No such file or directory\n",
            "mv: cannot stat 'train/Vasisthasana/File22.png': No such file or directory\n",
            "mv: cannot stat 'train/Vasisthasana/File76.jpeg': No such file or directory\n",
            "mv: cannot stat 'train/Vasisthasana/File28.png': No such file or directory\n",
            "mv: cannot stat 'train/Vasisthasana/File67.png': No such file or directory\n",
            "mv: cannot stat 'train/Vasisthasana/File73.png': No such file or directory\n",
            "mv: cannot stat 'train/Vasisthasana/File78.jpeg': No such file or directory\n",
            "mv: cannot stat 'train/Vasisthasana/File77.jpeg': No such file or directory\n",
            "mv: cannot stat 'train/Vasisthasana/File41.png': No such file or directory\n",
            "mv: cannot stat 'train/Vasisthasana/File26.png': No such file or directory\n",
            "mv: cannot stat 'train/Vasisthasana/File35.png': No such file or directory\n",
            "mv: cannot stat 'train/Vasisthasana/File63.png': No such file or directory\n",
            "mv: cannot stat 'train/Vasisthasana/File5.png': No such file or directory\n",
            "mv: cannot stat 'train/Vasisthasana/File59.png': No such file or directory\n",
            "mv: cannot stat 'train/Vasisthasana/File16.png': No such file or directory\n",
            "mv: cannot stat 'train/Vasisthasana/File25.png': No such file or directory\n",
            "mv: cannot stat 'train/Adho Mukha Svanasana/File33.png': No such file or directory\n",
            "mv: cannot stat 'train/Adho Mukha Svanasana/File13.png': No such file or directory\n",
            "mv: cannot stat 'train/Adho Mukha Svanasana/File63.png': No such file or directory\n",
            "mv: cannot stat 'train/Adho Mukha Svanasana/File4.png': No such file or directory\n",
            "mv: cannot stat 'train/Adho Mukha Svanasana/File54.png': No such file or directory\n",
            "mv: cannot stat 'train/Adho Mukha Svanasana/File6.png': No such file or directory\n",
            "mv: cannot stat 'train/Adho Mukha Svanasana/File2.png': No such file or directory\n",
            "mv: cannot stat 'train/Adho Mukha Svanasana/File73.jpeg': No such file or directory\n",
            "mv: cannot stat 'train/Adho Mukha Svanasana/File60.png': No such file or directory\n",
            "mv: cannot stat 'train/Adho Mukha Svanasana/File68.png': No such file or directory\n",
            "mv: cannot stat 'train/Adho Mukha Svanasana/File69.png': No such file or directory\n",
            "mv: cannot stat 'train/Adho Mukha Svanasana/File21.png': No such file or directory\n",
            "mv: cannot stat 'train/Adho Mukha Svanasana/File45.png': No such file or directory\n",
            "mv: cannot stat 'train/Adho Mukha Svanasana/File57.png': No such file or directory\n",
            "mv: cannot stat 'train/Camatkarasana/File23.png': No such file or directory\n",
            "mv: cannot stat 'train/Camatkarasana/File5.png': No such file or directory\n",
            "mv: cannot stat 'train/Camatkarasana/File33.png': No such file or directory\n",
            "mv: cannot stat 'train/Camatkarasana/File60.jpeg': No such file or directory\n",
            "mv: cannot stat 'train/Camatkarasana/File34.png': No such file or directory\n",
            "mv: cannot stat 'train/Camatkarasana/File55.jpeg': No such file or directory\n",
            "mv: cannot stat 'train/Camatkarasana/File15.png': No such file or directory\n",
            "mv: cannot stat 'train/Camatkarasana/File35.png': No such file or directory\n",
            "mv: cannot stat 'train/Camatkarasana/File56.jpeg': No such file or directory\n",
            "mv: cannot stat 'train/Camatkarasana/File24.png': No such file or directory\n",
            "mv: cannot stat 'train/Camatkarasana/File54.png': No such file or directory\n",
            "mv: cannot stat 'train/Camatkarasana/File61.jpeg': No such file or directory\n",
            "mv: cannot stat 'train/Garudasana/File28.png': No such file or directory\n",
            "mv: cannot stat 'train/Garudasana/File5.png': No such file or directory\n",
            "mv: cannot stat 'train/Garudasana/File83.jpeg': No such file or directory\n",
            "mv: cannot stat 'train/Garudasana/File48.png': No such file or directory\n",
            "mv: cannot stat 'train/Garudasana/File41.png': No such file or directory\n",
            "mv: cannot stat 'train/Garudasana/File44.png': No such file or directory\n",
            "mv: cannot stat 'train/Garudasana/File82.jpeg': No such file or directory\n",
            "mv: cannot stat 'train/Garudasana/File50.png': No such file or directory\n",
            "mv: cannot stat 'train/Garudasana/File38.png': No such file or directory\n",
            "mv: cannot stat 'train/Garudasana/File31.png': No such file or directory\n",
            "mv: cannot stat 'train/Garudasana/File9.png': No such file or directory\n",
            "mv: cannot stat 'train/Garudasana/File47.png': No such file or directory\n",
            "mv: cannot stat 'train/Garudasana/File15.png': No such file or directory\n",
            "mv: cannot stat 'train/Garudasana/File26.png': No such file or directory\n",
            "mv: cannot stat 'train/Garudasana/File80.jpeg': No such file or directory\n",
            "mv: cannot stat 'train/Garudasana/File65.png': No such file or directory\n",
            "mv: cannot stat 'train/Garudasana/File30.png': No such file or directory\n",
            "mv: cannot stat 'train/Bakasana/File5.png': No such file or directory\n",
            "mv: cannot stat 'train/Bakasana/File63.png': No such file or directory\n",
            "mv: cannot stat 'train/Bakasana/File40.png': No such file or directory\n",
            "mv: cannot stat 'train/Bakasana/File18.png': No such file or directory\n",
            "mv: cannot stat 'train/Bakasana/File49.png': No such file or directory\n",
            "mv: cannot stat 'train/Bakasana/File68.png': No such file or directory\n",
            "mv: cannot stat 'train/Bakasana/File44.png': No such file or directory\n",
            "mv: cannot stat 'train/Bakasana/File58.png': No such file or directory\n",
            "mv: cannot stat 'train/Bakasana/File62.png': No such file or directory\n",
            "mv: cannot stat 'train/Bakasana/File60.png': No such file or directory\n",
            "mv: cannot stat 'train/Bakasana/File22.png': No such file or directory\n",
            "mv: cannot stat 'train/Bakasana/File39.png': No such file or directory\n",
            "mv: cannot stat 'train/Bakasana/File54.png': No such file or directory\n",
            "mv: cannot stat 'train/Bakasana/File72.png': No such file or directory\n",
            "mv: cannot stat 'train/Bakasana/File34.png': No such file or directory\n",
            "mv: cannot stat 'train/Bakasana/File30.png': No such file or directory\n"
          ]
        }
      ],
      "source": [
        "# TODO: Now using these test image paths, copy over these files to the test directory and remove them from the train directory\n",
        "for test_path in test_image_paths:\n",
        "  train_path = os.path.join(\"train\",test_path)\n",
        "  dest_dir = os.path.join('test',os.path.dirname(test_path))\n",
        "  if not os.path.exists(dest_dir):\n",
        "    ! mkdir -p \"$dest_dir\"\n",
        "  ! mv \"$train_path\" \"$dest_dir\"\n",
        "  # Do something... (hint see cp and rm commands using the colab terminal, i.e. the \"!\" operator)"
      ]
    },
    {
      "cell_type": "markdown",
      "metadata": {
        "id": "MQSiUHBUv_6Q"
      },
      "source": [
        "### Task 4\n",
        "Now that we have our test and training sets setup, let's copy them over to our Google Drive so that we don't have to run this pipeline again.\n",
        "\n",
        "1. Mount your Google Drive in colab in the standard way by running the following code block."
      ]
    },
    {
      "cell_type": "code",
      "execution_count": 9,
      "metadata": {
        "colab": {
          "base_uri": "https://localhost:8080/"
        },
        "id": "SZcnh30iwVVa",
        "outputId": "6f3d0434-93ec-40db-a133-06d11ee3b431"
      },
      "outputs": [
        {
          "output_type": "stream",
          "name": "stdout",
          "text": [
            "Drive already mounted at /content/drive; to attempt to forcibly remount, call drive.mount(\"/content/drive\", force_remount=True).\n"
          ]
        }
      ],
      "source": [
        "from google.colab import drive\n",
        "drive.mount('/content/drive')"
      ]
    },
    {
      "cell_type": "markdown",
      "metadata": {
        "id": "h0MK7c3lwhz8"
      },
      "source": [
        "2. Now run the following command to copy over the training and test data to your desired location. Remember this location so you don't have to run this data loading section everytime you want to work on your homework."
      ]
    },
    {
      "cell_type": "code",
      "execution_count": 27,
      "metadata": {
        "id": "jUnorFMiwWIb"
      },
      "outputs": [],
      "source": [
        "# DESIRED GOOGLE DRIVE DIRECTORY (CHANGE ME)\n",
        "DESIRED_GOOGLE_DRIVE_DIR = '/content/drive/MyDrive/ENGS108/yoga-poses'\n",
        "\n",
        "# Makes the desired directory. If you get an error then the directory likely already exists, so comment out this line.\n",
        "! mkdir -p $DESIRED_GOOGLE_DRIVE_DIR\n",
        "\n",
        "# Command to copy over all test and train data to desired google drive path\n",
        "! cp -r train $DESIRED_GOOGLE_DRIVE_DIR\n",
        "! cp -r test $DESIRED_GOOGLE_DRIVE_DIR"
      ]
    },
    {
      "cell_type": "markdown",
      "metadata": {
        "id": "zPvUebuqx7Zv"
      },
      "source": [
        "# Problem 1: Support Vector Machine Classification\n",
        "In this problem, you will be building support vector machines for some cool classification tasks."
      ]
    },
    {
      "cell_type": "markdown",
      "metadata": {
        "id": "GcidjoN9yfDn"
      },
      "source": [
        "## Task 1: Synthetic Data\n",
        " In this part we will be exploring the *circles* dataset. This dataset is avialable as a pickle file labeled *circles.pk* in your assignment repository under datasets. In this dataset you will have an $X$ array of 2 dimensional samples of the form $(x_1, x_2)$ and a $y$ array of each samples associated label. "
      ]
    },
    {
      "cell_type": "markdown",
      "metadata": {
        "id": "udSAfh76ypCS"
      },
      "source": [
        "### Part A\n",
        "Upload this dataset to your Google Drive and load the dataset into memory using the pickle module (*Hint: Refer to previous assignments to figure out how to do this*). Go through the circles dataset and create a scatterplot of the circles data using the y label as each sample's color to designate their respective class."
      ]
    },
    {
      "cell_type": "code",
      "execution_count": 11,
      "metadata": {
        "id": "qbHlzNfazdB1",
        "colab": {
          "base_uri": "https://localhost:8080/",
          "height": 76
        },
        "outputId": "218d6f6e-ef9f-489b-f67a-a2ef0a970112"
      },
      "outputs": [
        {
          "output_type": "display_data",
          "data": {
            "text/plain": [
              "<IPython.core.display.HTML object>"
            ],
            "text/html": [
              "\n",
              "     <input type=\"file\" id=\"files-2e5b869c-644f-4441-b54d-ab7705039efd\" name=\"files[]\" multiple disabled\n",
              "        style=\"border:none\" />\n",
              "     <output id=\"result-2e5b869c-644f-4441-b54d-ab7705039efd\">\n",
              "      Upload widget is only available when the cell has been executed in the\n",
              "      current browser session. Please rerun this cell to enable.\n",
              "      </output>\n",
              "      <script>// Copyright 2017 Google LLC\n",
              "//\n",
              "// Licensed under the Apache License, Version 2.0 (the \"License\");\n",
              "// you may not use this file except in compliance with the License.\n",
              "// You may obtain a copy of the License at\n",
              "//\n",
              "//      http://www.apache.org/licenses/LICENSE-2.0\n",
              "//\n",
              "// Unless required by applicable law or agreed to in writing, software\n",
              "// distributed under the License is distributed on an \"AS IS\" BASIS,\n",
              "// WITHOUT WARRANTIES OR CONDITIONS OF ANY KIND, either express or implied.\n",
              "// See the License for the specific language governing permissions and\n",
              "// limitations under the License.\n",
              "\n",
              "/**\n",
              " * @fileoverview Helpers for google.colab Python module.\n",
              " */\n",
              "(function(scope) {\n",
              "function span(text, styleAttributes = {}) {\n",
              "  const element = document.createElement('span');\n",
              "  element.textContent = text;\n",
              "  for (const key of Object.keys(styleAttributes)) {\n",
              "    element.style[key] = styleAttributes[key];\n",
              "  }\n",
              "  return element;\n",
              "}\n",
              "\n",
              "// Max number of bytes which will be uploaded at a time.\n",
              "const MAX_PAYLOAD_SIZE = 100 * 1024;\n",
              "\n",
              "function _uploadFiles(inputId, outputId) {\n",
              "  const steps = uploadFilesStep(inputId, outputId);\n",
              "  const outputElement = document.getElementById(outputId);\n",
              "  // Cache steps on the outputElement to make it available for the next call\n",
              "  // to uploadFilesContinue from Python.\n",
              "  outputElement.steps = steps;\n",
              "\n",
              "  return _uploadFilesContinue(outputId);\n",
              "}\n",
              "\n",
              "// This is roughly an async generator (not supported in the browser yet),\n",
              "// where there are multiple asynchronous steps and the Python side is going\n",
              "// to poll for completion of each step.\n",
              "// This uses a Promise to block the python side on completion of each step,\n",
              "// then passes the result of the previous step as the input to the next step.\n",
              "function _uploadFilesContinue(outputId) {\n",
              "  const outputElement = document.getElementById(outputId);\n",
              "  const steps = outputElement.steps;\n",
              "\n",
              "  const next = steps.next(outputElement.lastPromiseValue);\n",
              "  return Promise.resolve(next.value.promise).then((value) => {\n",
              "    // Cache the last promise value to make it available to the next\n",
              "    // step of the generator.\n",
              "    outputElement.lastPromiseValue = value;\n",
              "    return next.value.response;\n",
              "  });\n",
              "}\n",
              "\n",
              "/**\n",
              " * Generator function which is called between each async step of the upload\n",
              " * process.\n",
              " * @param {string} inputId Element ID of the input file picker element.\n",
              " * @param {string} outputId Element ID of the output display.\n",
              " * @return {!Iterable<!Object>} Iterable of next steps.\n",
              " */\n",
              "function* uploadFilesStep(inputId, outputId) {\n",
              "  const inputElement = document.getElementById(inputId);\n",
              "  inputElement.disabled = false;\n",
              "\n",
              "  const outputElement = document.getElementById(outputId);\n",
              "  outputElement.innerHTML = '';\n",
              "\n",
              "  const pickedPromise = new Promise((resolve) => {\n",
              "    inputElement.addEventListener('change', (e) => {\n",
              "      resolve(e.target.files);\n",
              "    });\n",
              "  });\n",
              "\n",
              "  const cancel = document.createElement('button');\n",
              "  inputElement.parentElement.appendChild(cancel);\n",
              "  cancel.textContent = 'Cancel upload';\n",
              "  const cancelPromise = new Promise((resolve) => {\n",
              "    cancel.onclick = () => {\n",
              "      resolve(null);\n",
              "    };\n",
              "  });\n",
              "\n",
              "  // Wait for the user to pick the files.\n",
              "  const files = yield {\n",
              "    promise: Promise.race([pickedPromise, cancelPromise]),\n",
              "    response: {\n",
              "      action: 'starting',\n",
              "    }\n",
              "  };\n",
              "\n",
              "  cancel.remove();\n",
              "\n",
              "  // Disable the input element since further picks are not allowed.\n",
              "  inputElement.disabled = true;\n",
              "\n",
              "  if (!files) {\n",
              "    return {\n",
              "      response: {\n",
              "        action: 'complete',\n",
              "      }\n",
              "    };\n",
              "  }\n",
              "\n",
              "  for (const file of files) {\n",
              "    const li = document.createElement('li');\n",
              "    li.append(span(file.name, {fontWeight: 'bold'}));\n",
              "    li.append(span(\n",
              "        `(${file.type || 'n/a'}) - ${file.size} bytes, ` +\n",
              "        `last modified: ${\n",
              "            file.lastModifiedDate ? file.lastModifiedDate.toLocaleDateString() :\n",
              "                                    'n/a'} - `));\n",
              "    const percent = span('0% done');\n",
              "    li.appendChild(percent);\n",
              "\n",
              "    outputElement.appendChild(li);\n",
              "\n",
              "    const fileDataPromise = new Promise((resolve) => {\n",
              "      const reader = new FileReader();\n",
              "      reader.onload = (e) => {\n",
              "        resolve(e.target.result);\n",
              "      };\n",
              "      reader.readAsArrayBuffer(file);\n",
              "    });\n",
              "    // Wait for the data to be ready.\n",
              "    let fileData = yield {\n",
              "      promise: fileDataPromise,\n",
              "      response: {\n",
              "        action: 'continue',\n",
              "      }\n",
              "    };\n",
              "\n",
              "    // Use a chunked sending to avoid message size limits. See b/62115660.\n",
              "    let position = 0;\n",
              "    do {\n",
              "      const length = Math.min(fileData.byteLength - position, MAX_PAYLOAD_SIZE);\n",
              "      const chunk = new Uint8Array(fileData, position, length);\n",
              "      position += length;\n",
              "\n",
              "      const base64 = btoa(String.fromCharCode.apply(null, chunk));\n",
              "      yield {\n",
              "        response: {\n",
              "          action: 'append',\n",
              "          file: file.name,\n",
              "          data: base64,\n",
              "        },\n",
              "      };\n",
              "\n",
              "      let percentDone = fileData.byteLength === 0 ?\n",
              "          100 :\n",
              "          Math.round((position / fileData.byteLength) * 100);\n",
              "      percent.textContent = `${percentDone}% done`;\n",
              "\n",
              "    } while (position < fileData.byteLength);\n",
              "  }\n",
              "\n",
              "  // All done.\n",
              "  yield {\n",
              "    response: {\n",
              "      action: 'complete',\n",
              "    }\n",
              "  };\n",
              "}\n",
              "\n",
              "scope.google = scope.google || {};\n",
              "scope.google.colab = scope.google.colab || {};\n",
              "scope.google.colab._files = {\n",
              "  _uploadFiles,\n",
              "  _uploadFilesContinue,\n",
              "};\n",
              "})(self);\n",
              "</script> "
            ]
          },
          "metadata": {}
        },
        {
          "output_type": "stream",
          "name": "stdout",
          "text": [
            "Saving circles.pk to circles.pk\n"
          ]
        }
      ],
      "source": [
        "# TODO: Change me\n",
        "import pickle\n",
        "CIRCLES_DATASET_PATH = '/content/drive/MyDrive/data/circles/circles.pk'\n",
        "files.upload()\n",
        "UPLOAD_PATH = '/content/circles.pk'\n",
        "DESIRED_PATH = '/content/drive/MyDrive/data/circles'\n",
        "! mkdir -p $DESIRED_PATH\n",
        "! mv \"$UPLOAD_PATH\" \"$DESIRED_PATH\" \n",
        "# TODO: Load the dataset using pickle load \n",
        "with open(CIRCLES_DATASET_PATH, 'rb') as circles_file:\n",
        "  # TODO: Load here...\n",
        "  circles = pickle.load(circles_file)"
      ]
    },
    {
      "cell_type": "code",
      "execution_count": 12,
      "metadata": {
        "id": "cwLr5n7I0kUD",
        "colab": {
          "base_uri": "https://localhost:8080/",
          "height": 283
        },
        "outputId": "150d32a4-e34f-4d8c-b4d6-252c1936a955"
      },
      "outputs": [
        {
          "output_type": "execute_result",
          "data": {
            "text/plain": [
              "<matplotlib.collections.PathCollection at 0x7f2d0789b690>"
            ]
          },
          "metadata": {},
          "execution_count": 12
        },
        {
          "output_type": "display_data",
          "data": {
            "text/plain": [
              "<Figure size 432x288 with 1 Axes>"
            ],
            "image/png": "[encoded data removed]"
          },
          "metadata": {
            "needs_background": "light"
          }
        }
      ],
      "source": [
        "X, y = circles\n",
        "plt.scatter(X[:,0],X[:,1],c = y)\n",
        "# TODO: Graph the data"
      ]
    },
    {
      "cell_type": "markdown",
      "metadata": {
        "id": "iaNdT9dO1GNM"
      },
      "source": [
        "### Part B\n",
        "Is this dataset linearly seperable? Explain why or why not?"
      ]
    },
    {
      "cell_type": "markdown",
      "metadata": {
        "id": "zm2CzCTG1JSr"
      },
      "source": [
        "$No.~The~data~ is~ ring-shaped~, a~ line~ can~ never~ separate~ the~ data~ well.$"
      ]
    },
    {
      "cell_type": "markdown",
      "metadata": {
        "id": "PFK8qmFg1o8V"
      },
      "source": [
        "### Part C\n",
        "Can you think of a transformation that can be applied to this dataset that could make it linearly seperable? If so, define what these transformation function(s) might look like, and if not explain why. *Hint: Think of a higher dimensional space.*"
      ]
    },
    {
      "cell_type": "markdown",
      "metadata": {
        "id": "ia1Jhy_L1uax"
      },
      "source": [
        "**TODO:** Your answer should go here."
      ]
    },
    {
      "cell_type": "markdown",
      "metadata": {
        "id": "WC5ZUiZD1-ew"
      },
      "source": [
        "### Part D\n",
        "If you where able to find a transformation in (Part C), create a suitable graph showing that the dataset is linearly seperable in this new feature space."
      ]
    },
    {
      "cell_type": "code",
      "execution_count": 14,
      "metadata": {
        "id": "aY_vnGqB2FxG",
        "colab": {
          "base_uri": "https://localhost:8080/",
          "height": 411
        },
        "outputId": "31345448-c1a9-48e2-a404-c045040f2eba"
      },
      "outputs": [
        {
          "output_type": "display_data",
          "data": {
            "text/plain": [
              "<Figure size 720x504 with 1 Axes>"
            ],
            "image/png": "[encoded data removed]"
          },
          "metadata": {
            "needs_background": "light"
          }
        }
      ],
      "source": [
        "#TODO: Your code goes here.\n",
        "fig = plt.figure(figsize = (10, 7))\n",
        "ax = plt.axes(projection =\"3d\")\n",
        "xs = X[:,0]**2\n",
        "ys = X[:,1]**2\n",
        "zs = math.sqrt(2)*X[:,0]*X[:,1]\n",
        "ax.scatter(xs, ys, zs, c = y)\n",
        "ax.set_xlabel('X', fontweight ='bold')\n",
        "ax.set_ylabel('Y', fontweight ='bold')\n",
        "ax.set_zlabel('Z', fontweight ='bold')\n",
        "ax.set_ylim3d(-1.5,1.5)\n",
        "ax.set_zlim3d(-1.5,1.5)\n",
        "plt.show()\n",
        "\n"
      ]
    },
    {
      "cell_type": "markdown",
      "metadata": {
        "id": "DXBD02Z72XTn"
      },
      "source": [
        "## Task 2: Yoga Pose Classification\n",
        "What we accomplished in Part 1 is known as the kernel trick for SVMs. Now let's focus on how we can use this idea to accomplish non-linear classification on a real world dataset. In this next part and throughout the remainder of the assignment we will be using a yoga postures dataset. These images are PNG and JPEG images with many pixels. "
      ]
    },
    {
      "cell_type": "markdown",
      "metadata": {
        "id": "MgKTi7eS2ftd"
      },
      "source": [
        "### Part A\n",
        "You have been given a number of code skeletons throughout the course all of which load and preprocess the data for you. In this excerise tho, we will be doing the data loading manually as it is an important skill to learn. Write some code that will walk through the *Yoga Postures Dataset* directory structure and build a single large numpy array (Make sure to resize the image to something like (28, 28) or (32, 32) for the SVM and at minimum (71, 71) for the deep learning tasks) *Hint: You have been provided with a basic skeleton, study the operations of the code and finish the script.*"
      ]
    },
    {
      "cell_type": "code",
      "source": [
        "im = Image.open(\"/content/drive/MyDrive/data/yoga-poses/train/Adho Mukha Svanasana/File1.png\")\n",
        "im = np.array(im)\n",
        "im = im[:,:,:3]\n",
        "plt.imshow(im)\n",
        "\n"
      ],
      "metadata": {
        "colab": {
          "base_uri": "https://localhost:8080/",
          "height": 241
        },
        "id": "wThboLf3a2XQ",
        "outputId": "0862720b-b7e7-4b20-ebba-35f9e2b17e72"
      },
      "execution_count": 44,
      "outputs": [
        {
          "output_type": "execute_result",
          "data": {
            "text/plain": [
              "<matplotlib.image.AxesImage at 0x7f2d00f399d0>"
            ]
          },
          "metadata": {},
          "execution_count": 44
        },
        {
          "output_type": "display_data",
          "data": {
            "text/plain": [
              "<Figure size 432x288 with 1 Axes>"
            ],
            "image/png": "[encoded data removed]"
          },
          "metadata": {
            "needs_background": "light"
          }
        }
      ]
    },
    {
      "cell_type": "code",
      "execution_count": 46,
      "metadata": {
        "id": "-TqNTGVz3CWF",
        "colab": {
          "base_uri": "https://localhost:8080/"
        },
        "outputId": "9263cc73-559a-4cec-84f3-e99cfa30273f"
      },
      "outputs": [
        {
          "output_type": "stream",
          "name": "stderr",
          "text": [
            "Processing test images:  49%|████▉     | 23/47 [00:03<00:03,  6.35it/s]/usr/local/lib/python3.7/dist-packages/PIL/Image.py:960: UserWarning: Palette images with Transparency expressed in bytes should be converted to RGBA images\n",
            "  \"Palette images with Transparency expressed in bytes should be \"\n"
          ]
        }
      ],
      "source": [
        "from PIL import Image\n",
        "\n",
        "# TODO: Change Me\n",
        "PATH_TO_YOGA_TRAIN_DATA = '/content/drive/MyDrive/ENGS108/yoga-poses/train'\n",
        "PATH_TO_YOGA_TEST_DATA = '/content/drive/MyDrive/ENGS108/yoga-poses/test'\n",
        "\n",
        "# The dimensions of the resized image\n",
        "RESIZE = (71,71)\n",
        "# A map from integer ids to yoga pose categories (strings)\n",
        "pose_map = {}\n",
        "# The data lists that we will be filling in.\n",
        "X, y = [], []\n",
        "\n",
        "# Let's start our for loop (Just using tqdm to give us a pretty progress bar).\n",
        "class_id = 0\n",
        "for subfold in tqdm.tqdm(os.listdir(PATH_TO_YOGA_TRAIN_DATA), desc='Processing training images', leave=False):                                                                             \n",
        "  if os.path.isdir(os.path.join(PATH_TO_YOGA_TRAIN_DATA, subfold)):\n",
        "    # We have found image class folder so let's extract all example data\n",
        "    pose_map[class_id] = subfold\n",
        "    for img_name in os.listdir(os.path.join(PATH_TO_YOGA_TRAIN_DATA, subfold)):\n",
        "      im = Image.open(os.path.join(PATH_TO_YOGA_TRAIN_DATA, subfold, img_name)).convert('RGB')\n",
        "      #TODO: Preprocess and load image\n",
        "      im_resized = im.resize(RESIZE)\n",
        "      im_resized = np.array(im_resized)\n",
        "      X.append(im_resized)\n",
        "      y.append(class_id)\n",
        "      #HINT: PNGs will have 4 channels and JPEGs will have 3 (THIS WILL CAUSE ISSUES!).\n",
        "      # Try to figure out what to do with this 4th channel. It could be as simple as deleting it...\n",
        "    class_id += 1\n",
        "\n",
        "X_train = np.array(X)\n",
        "y_train = np.array(y)\n",
        "\n",
        "# Let's load in the training data as well using the same methodology but with the pose_map built during the training data collection. \n",
        "pose_map_reverse = {pose: class_id for class_id, pose in pose_map.items()}\n",
        "X, y = [], []\n",
        "for subfold in tqdm.tqdm(os.listdir(PATH_TO_YOGA_TEST_DATA), desc='Processing test images', leave=False):                                                                             \n",
        "  if os.path.isdir(os.path.join(PATH_TO_YOGA_TEST_DATA, subfold)):\n",
        "    # We have found image class folder so let's extract all example data\n",
        "    class_id = pose_map_reverse[subfold]\n",
        "    for img_name in os.listdir(os.path.join(PATH_TO_YOGA_TEST_DATA, subfold)):\n",
        "      #TODO: Preprocess and load image\n",
        "      im = Image.open(os.path.join(PATH_TO_YOGA_TEST_DATA, subfold, img_name)).convert('RGB')\n",
        "      im_resized = im.resize(RESIZE)\n",
        "      im_resized = np.array(im_resized)\n",
        "      X.append(im_resized)\n",
        "      y.append(class_id)\n",
        "\n",
        "X_test = np.array(X)\n",
        "y_test = np.array(y)"
      ]
    },
    {
      "cell_type": "markdown",
      "metadata": {
        "id": "F39zc6f-9UDr"
      },
      "source": [
        "### Part B\n",
        "Implement a SVM classifer using sklearn and report your classification results on the testing dataset. Make sure to flatten your X data from the three channels before passing into the SVM."
      ]
    },
    {
      "cell_type": "code",
      "source": [
        "pose_map_reverse"
      ],
      "metadata": {
        "colab": {
          "base_uri": "https://localhost:8080/"
        },
        "id": "zMRlrjm8hIaG",
        "outputId": "76b84933-58a7-457c-9804-0c70fde742c1"
      },
      "execution_count": 47,
      "outputs": [
        {
          "output_type": "execute_result",
          "data": {
            "text/plain": [
              "{'Adho Mukha Svanasana': 0,\n",
              " 'Adho Mukha Vrksasana': 1,\n",
              " 'Alanasana': 2,\n",
              " 'Anjaneyasana': 3,\n",
              " 'Ardha Chandrasana': 4,\n",
              " 'Ardha Matsyendrasana': 5,\n",
              " 'Ardha Navasana': 6,\n",
              " 'Ardha Pincha Mayurasana': 7,\n",
              " 'Ashta Chandrasana': 8,\n",
              " 'Baddha Konasana': 9,\n",
              " 'Bakasana': 10,\n",
              " 'Balasana': 11,\n",
              " 'Bitilasana': 12,\n",
              " 'Camatkarasana': 13,\n",
              " 'Dhanurasana': 14,\n",
              " 'Eka Pada Rajakapotasana': 15,\n",
              " 'Garudasana': 16,\n",
              " 'Halasana': 17,\n",
              " 'Hanumanasana': 18,\n",
              " 'Malasana': 19,\n",
              " 'Marjaryasana': 20,\n",
              " 'Navasana': 21,\n",
              " 'Padmasana': 22,\n",
              " 'Parsva Virabhadrasana': 23,\n",
              " 'Parsvottanasana': 24,\n",
              " 'Paschimottanasana': 25,\n",
              " 'Phalakasana': 26,\n",
              " 'Pincha Mayurasana': 27,\n",
              " 'Salamba Bhujangasana': 28,\n",
              " 'Salamba Sarvangasana': 29,\n",
              " 'Setu Bandha Sarvangasana': 30,\n",
              " 'Sivasana': 31,\n",
              " 'Supta Kapotasana': 32,\n",
              " 'Trikonasana': 33,\n",
              " 'Upavistha Konasana': 34,\n",
              " 'Urdhva Dhanurasana': 35,\n",
              " 'Urdhva Mukha Svsnssana': 36,\n",
              " 'Ustrasana': 37,\n",
              " 'Utkatasana': 38,\n",
              " 'Uttanasana': 39,\n",
              " 'Utthita Hasta Padangusthasana': 40,\n",
              " 'Utthita Parsvakonasana': 41,\n",
              " 'Vasisthasana': 42,\n",
              " 'Virabhadrasana One': 43,\n",
              " 'Virabhadrasana Three': 44,\n",
              " 'Virabhadrasana Two': 45,\n",
              " 'Vrksasana': 46}"
            ]
          },
          "metadata": {},
          "execution_count": 47
        }
      ]
    },
    {
      "cell_type": "code",
      "execution_count": 57,
      "metadata": {
        "id": "-fPEAkUB9jwh",
        "colab": {
          "base_uri": "https://localhost:8080/"
        },
        "outputId": "25383607-03f3-455a-9cdc-f57d433efe7e"
      },
      "outputs": [
        {
          "output_type": "execute_result",
          "data": {
            "text/plain": [
              "0.41398865784499056"
            ]
          },
          "metadata": {},
          "execution_count": 57
        }
      ],
      "source": [
        "#TODO: Build and fit your SVM classifier and print your classification report\n",
        "from sklearn import svm\n",
        "from sklearn.metrics import accuracy_score\n",
        "clf = svm.SVC(kernel = 'rbf')\n",
        "clf.fit(X_train.flatten().reshape(2229,71*71*3)/255, y_train)\n",
        "y_pred = clf.predict(X_test.flatten().reshape(529,71*71*3)/255)\n",
        "accuracy_score(y_test, y_pred)\n",
        "\n"
      ]
    },
    {
      "cell_type": "markdown",
      "metadata": {
        "id": "Cq3fmX8K_l_N"
      },
      "source": [
        "# Problem 2: Introduction to TensorFlow\n",
        "In this problem, we will start working in tensorflow to build deep learning systems starting with fully-connected (FC) and convolutional (CNN) neural networks. We will focus on using the yoga postures dataset, ending this problem with a small class competition that may come with a prize..."
      ]
    },
    {
      "cell_type": "markdown",
      "metadata": {
        "id": "PJNX1muh_7IA"
      },
      "source": [
        "## Task 1: A Fully-Connected Neural Network"
      ]
    },
    {
      "cell_type": "markdown",
      "metadata": {
        "id": "oCkRDTbIA4vH"
      },
      "source": [
        "### Part A\n",
        "Using the yoga postures dataset, build a [tensorflow Data Dataset](https://www.tensorflow.org/api_docs/python/tf/data/Dataset) that is shuffled with a batch size of 10. *Hint: We did this in class.*"
      ]
    },
    {
      "cell_type": "code",
      "execution_count": 65,
      "metadata": {
        "id": "HAUkPd1lAFHh"
      },
      "outputs": [],
      "source": [
        "#TODO: Your code goes here.\n",
        "BATCH_SIZE = 10\n",
        "train_dataset = tf.data.Dataset.from_tensor_slices((X_train/255,y_train))\n",
        "test_dataset = tf.data.Dataset.from_tensor_slices((X_test,y_test))\n",
        "train_dataset = train_dataset.shuffle(X_train.size).batch(BATCH_SIZE)\n",
        "test_dataset = test_dataset.batch(BATCH_SIZE)"
      ]
    },
    {
      "cell_type": "markdown",
      "metadata": {
        "id": "UlLZH8fsA9NF"
      },
      "source": [
        "### Part B\n",
        "Build a two layer fully connected neural network of any size with a ReLu activation function and a final softmax layer."
      ]
    },
    {
      "cell_type": "code",
      "execution_count": 72,
      "metadata": {
        "id": "3RXomqTaBLHw",
        "colab": {
          "base_uri": "https://localhost:8080/",
          "height": 359
        },
        "outputId": "97be2181-6859-4d56-85e2-f2915a4462d4"
      },
      "outputs": [
        {
          "output_type": "error",
          "ename": "TypeError",
          "evalue": "ignored",
          "traceback": [
            "\u001b[0;31m---------------------------------------------------------------------------\u001b[0m",
            "\u001b[0;31mTypeError\u001b[0m                                 Traceback (most recent call last)",
            "\u001b[0;32m<ipython-input-72-0736fc15b922>\u001b[0m in \u001b[0;36m<module>\u001b[0;34m\u001b[0m\n\u001b[1;32m      6\u001b[0m     \u001b[0mtf\u001b[0m\u001b[0;34m.\u001b[0m\u001b[0mkeras\u001b[0m\u001b[0;34m.\u001b[0m\u001b[0mlayers\u001b[0m\u001b[0;34m.\u001b[0m\u001b[0mFlatten\u001b[0m\u001b[0;34m(\u001b[0m\u001b[0minput_shape\u001b[0m\u001b[0;34m=\u001b[0m\u001b[0;34m(\u001b[0m\u001b[0;36m71\u001b[0m\u001b[0;34m,\u001b[0m \u001b[0;36m71\u001b[0m\u001b[0;34m,\u001b[0m \u001b[0;36m3\u001b[0m\u001b[0;34m)\u001b[0m\u001b[0;34m)\u001b[0m\u001b[0;34m,\u001b[0m\u001b[0;34m\u001b[0m\u001b[0;34m\u001b[0m\u001b[0m\n\u001b[1;32m      7\u001b[0m     \u001b[0mtf\u001b[0m\u001b[0;34m.\u001b[0m\u001b[0mkeras\u001b[0m\u001b[0;34m.\u001b[0m\u001b[0mlayers\u001b[0m\u001b[0;34m.\u001b[0m\u001b[0mDense\u001b[0m\u001b[0;34m(\u001b[0m\u001b[0;36m100\u001b[0m\u001b[0;34m,\u001b[0m \u001b[0mactivation\u001b[0m\u001b[0;34m=\u001b[0m\u001b[0;34m'relu'\u001b[0m\u001b[0;34m)\u001b[0m\u001b[0;34m,\u001b[0m\u001b[0;34m\u001b[0m\u001b[0;34m\u001b[0m\u001b[0m\n\u001b[0;32m----> 8\u001b[0;31m     \u001b[0mtf\u001b[0m\u001b[0;34m.\u001b[0m\u001b[0mkeras\u001b[0m\u001b[0;34m.\u001b[0m\u001b[0mlayers\u001b[0m\u001b[0;34m.\u001b[0m\u001b[0mDense\u001b[0m\u001b[0;34m(\u001b[0m\u001b[0;36m1\u001b[0m\u001b[0;34m,\u001b[0m\u001b[0;36m47\u001b[0m\u001b[0;34m,\u001b[0m \u001b[0mactivation\u001b[0m\u001b[0;34m=\u001b[0m\u001b[0;34m'softmax'\u001b[0m\u001b[0;34m)\u001b[0m\u001b[0;34m\u001b[0m\u001b[0;34m\u001b[0m\u001b[0m\n\u001b[0m\u001b[1;32m      9\u001b[0m ])\n",
            "\u001b[0;32m/usr/local/lib/python3.7/dist-packages/keras/dtensor/utils.py\u001b[0m in \u001b[0;36m_wrap_function\u001b[0;34m(layer_instance, *args, **kwargs)\u001b[0m\n\u001b[1;32m     93\u001b[0m           \u001b[0mlayout_args\u001b[0m\u001b[0;34m[\u001b[0m\u001b[0mvariable_name\u001b[0m \u001b[0;34m+\u001b[0m \u001b[0;34m\"_layout\"\u001b[0m\u001b[0;34m]\u001b[0m \u001b[0;34m=\u001b[0m \u001b[0mlayout\u001b[0m\u001b[0;34m\u001b[0m\u001b[0;34m\u001b[0m\u001b[0m\n\u001b[1;32m     94\u001b[0m \u001b[0;34m\u001b[0m\u001b[0m\n\u001b[0;32m---> 95\u001b[0;31m     \u001b[0minit_method\u001b[0m\u001b[0;34m(\u001b[0m\u001b[0mlayer_instance\u001b[0m\u001b[0;34m,\u001b[0m \u001b[0;34m*\u001b[0m\u001b[0margs\u001b[0m\u001b[0;34m,\u001b[0m \u001b[0;34m**\u001b[0m\u001b[0mkwargs\u001b[0m\u001b[0;34m)\u001b[0m\u001b[0;34m\u001b[0m\u001b[0;34m\u001b[0m\u001b[0m\n\u001b[0m\u001b[1;32m     96\u001b[0m \u001b[0;34m\u001b[0m\u001b[0m\n\u001b[1;32m     97\u001b[0m     \u001b[0;31m# Inject the layout parameter after the invocation of __init__()\u001b[0m\u001b[0;34m\u001b[0m\u001b[0;34m\u001b[0m\u001b[0;34m\u001b[0m\u001b[0m\n",
            "\u001b[0;31mTypeError\u001b[0m: __init__() got multiple values for argument 'activation'"
          ]
        }
      ],
      "source": [
        "#TODO: Your code goes here. Make sure to add a Flatten layer first with the correct input shape.\n",
        "import keras\n",
        "from keras.models import Sequential\n",
        "from keras.layers import Dense\n",
        "model = tf.keras.Sequential([\n",
        "    tf.keras.layers.Flatten(input_shape=(71, 71, 3)),\n",
        "    tf.keras.layers.Dense(100, activation='relu'),\n",
        "    tf.keras.layers.Dense(1,activation='softmax')\n",
        "])\n"
      ]
    },
    {
      "cell_type": "markdown",
      "metadata": {
        "id": "eR3MLamSBX3E"
      },
      "source": [
        "### Part C\n",
        "Compile your model with an appropriate loss function and optimizer. Briefly describe your choices."
      ]
    },
    {
      "cell_type": "code",
      "execution_count": 70,
      "metadata": {
        "id": "tHRuyQk9Bddp"
      },
      "outputs": [],
      "source": [
        "#TODO: Your code goes here.\n",
        "model.compile(loss='categorical_crossentropy', optimizer='adam', metrics=['accuracy'])"
      ]
    },
    {
      "cell_type": "markdown",
      "metadata": {
        "id": "Zs0V_gmYBsc-"
      },
      "source": [
        "### Part D\n",
        "Train your model on the yoga pose training dataset. And report your accuracy on the testing dataset."
      ]
    },
    {
      "cell_type": "code",
      "execution_count": 71,
      "metadata": {
        "id": "dmQcGH1TBxoP",
        "colab": {
          "base_uri": "https://localhost:8080/",
          "height": 787
        },
        "outputId": "3206f028-dffb-4ced-8d0a-c5d284b7de34"
      },
      "outputs": [
        {
          "output_type": "stream",
          "name": "stdout",
          "text": [
            "Epoch 1/10\n"
          ]
        },
        {
          "output_type": "error",
          "ename": "ValueError",
          "evalue": "ignored",
          "traceback": [
            "\u001b[0;31m---------------------------------------------------------------------------\u001b[0m",
            "\u001b[0;31mValueError\u001b[0m                                Traceback (most recent call last)",
            "\u001b[0;32m<ipython-input-71-dd30526fc336>\u001b[0m in \u001b[0;36m<module>\u001b[0;34m\u001b[0m\n\u001b[1;32m      1\u001b[0m \u001b[0;31m#TODO: Your code goes here. Hint: It's ok if the accuracy is not the best...\u001b[0m\u001b[0;34m\u001b[0m\u001b[0;34m\u001b[0m\u001b[0;34m\u001b[0m\u001b[0m\n\u001b[0;32m----> 2\u001b[0;31m \u001b[0mmodel\u001b[0m\u001b[0;34m.\u001b[0m\u001b[0mfit\u001b[0m\u001b[0;34m(\u001b[0m\u001b[0mtrain_dataset\u001b[0m\u001b[0;34m,\u001b[0m \u001b[0mepochs\u001b[0m\u001b[0;34m=\u001b[0m\u001b[0;36m10\u001b[0m\u001b[0;34m,\u001b[0m \u001b[0mbatch_size\u001b[0m\u001b[0;34m=\u001b[0m\u001b[0;36m10\u001b[0m\u001b[0;34m)\u001b[0m\u001b[0;34m\u001b[0m\u001b[0;34m\u001b[0m\u001b[0m\n\u001b[0m",
            "\u001b[0;32m/usr/local/lib/python3.7/dist-packages/keras/utils/traceback_utils.py\u001b[0m in \u001b[0;36merror_handler\u001b[0;34m(*args, **kwargs)\u001b[0m\n\u001b[1;32m     65\u001b[0m     \u001b[0;32mexcept\u001b[0m \u001b[0mException\u001b[0m \u001b[0;32mas\u001b[0m \u001b[0me\u001b[0m\u001b[0;34m:\u001b[0m  \u001b[0;31m# pylint: disable=broad-except\u001b[0m\u001b[0;34m\u001b[0m\u001b[0;34m\u001b[0m\u001b[0m\n\u001b[1;32m     66\u001b[0m       \u001b[0mfiltered_tb\u001b[0m \u001b[0;34m=\u001b[0m \u001b[0m_process_traceback_frames\u001b[0m\u001b[0;34m(\u001b[0m\u001b[0me\u001b[0m\u001b[0;34m.\u001b[0m\u001b[0m__traceback__\u001b[0m\u001b[0;34m)\u001b[0m\u001b[0;34m\u001b[0m\u001b[0;34m\u001b[0m\u001b[0m\n\u001b[0;32m---> 67\u001b[0;31m       \u001b[0;32mraise\u001b[0m \u001b[0me\u001b[0m\u001b[0;34m.\u001b[0m\u001b[0mwith_traceback\u001b[0m\u001b[0;34m(\u001b[0m\u001b[0mfiltered_tb\u001b[0m\u001b[0;34m)\u001b[0m \u001b[0;32mfrom\u001b[0m \u001b[0;32mNone\u001b[0m\u001b[0;34m\u001b[0m\u001b[0;34m\u001b[0m\u001b[0m\n\u001b[0m\u001b[1;32m     68\u001b[0m     \u001b[0;32mfinally\u001b[0m\u001b[0;34m:\u001b[0m\u001b[0;34m\u001b[0m\u001b[0;34m\u001b[0m\u001b[0m\n\u001b[1;32m     69\u001b[0m       \u001b[0;32mdel\u001b[0m \u001b[0mfiltered_tb\u001b[0m\u001b[0;34m\u001b[0m\u001b[0;34m\u001b[0m\u001b[0m\n",
            "\u001b[0;32m/usr/local/lib/python3.7/dist-packages/keras/engine/training.py\u001b[0m in \u001b[0;36mtf__train_function\u001b[0;34m(iterator)\u001b[0m\n\u001b[1;32m     13\u001b[0m                 \u001b[0;32mtry\u001b[0m\u001b[0;34m:\u001b[0m\u001b[0;34m\u001b[0m\u001b[0;34m\u001b[0m\u001b[0m\n\u001b[1;32m     14\u001b[0m                     \u001b[0mdo_return\u001b[0m \u001b[0;34m=\u001b[0m \u001b[0;32mTrue\u001b[0m\u001b[0;34m\u001b[0m\u001b[0;34m\u001b[0m\u001b[0m\n\u001b[0;32m---> 15\u001b[0;31m                     \u001b[0mretval_\u001b[0m \u001b[0;34m=\u001b[0m \u001b[0mag__\u001b[0m\u001b[0;34m.\u001b[0m\u001b[0mconverted_call\u001b[0m\u001b[0;34m(\u001b[0m\u001b[0mag__\u001b[0m\u001b[0;34m.\u001b[0m\u001b[0mld\u001b[0m\u001b[0;34m(\u001b[0m\u001b[0mstep_function\u001b[0m\u001b[0;34m)\u001b[0m\u001b[0;34m,\u001b[0m \u001b[0;34m(\u001b[0m\u001b[0mag__\u001b[0m\u001b[0;34m.\u001b[0m\u001b[0mld\u001b[0m\u001b[0;34m(\u001b[0m\u001b[0mself\u001b[0m\u001b[0;34m)\u001b[0m\u001b[0;34m,\u001b[0m \u001b[0mag__\u001b[0m\u001b[0;34m.\u001b[0m\u001b[0mld\u001b[0m\u001b[0;34m(\u001b[0m\u001b[0miterator\u001b[0m\u001b[0;34m)\u001b[0m\u001b[0;34m)\u001b[0m\u001b[0;34m,\u001b[0m \u001b[0;32mNone\u001b[0m\u001b[0;34m,\u001b[0m \u001b[0mfscope\u001b[0m\u001b[0;34m)\u001b[0m\u001b[0;34m\u001b[0m\u001b[0;34m\u001b[0m\u001b[0m\n\u001b[0m\u001b[1;32m     16\u001b[0m                 \u001b[0;32mexcept\u001b[0m\u001b[0;34m:\u001b[0m\u001b[0;34m\u001b[0m\u001b[0;34m\u001b[0m\u001b[0m\n\u001b[1;32m     17\u001b[0m                     \u001b[0mdo_return\u001b[0m \u001b[0;34m=\u001b[0m \u001b[0;32mFalse\u001b[0m\u001b[0;34m\u001b[0m\u001b[0;34m\u001b[0m\u001b[0m\n",
            "\u001b[0;31mValueError\u001b[0m: in user code:\n\n    File \"/usr/local/lib/python3.7/dist-packages/keras/engine/training.py\", line 1051, in train_function  *\n        return step_function(self, iterator)\n    File \"/usr/local/lib/python3.7/dist-packages/keras/engine/training.py\", line 1040, in step_function  **\n        outputs = model.distribute_strategy.run(run_step, args=(data,))\n    File \"/usr/local/lib/python3.7/dist-packages/keras/engine/training.py\", line 1030, in run_step  **\n        outputs = model.train_step(data)\n    File \"/usr/local/lib/python3.7/dist-packages/keras/engine/training.py\", line 890, in train_step\n        loss = self.compute_loss(x, y, y_pred, sample_weight)\n    File \"/usr/local/lib/python3.7/dist-packages/keras/engine/training.py\", line 949, in compute_loss\n        y, y_pred, sample_weight, regularization_losses=self.losses)\n    File \"/usr/local/lib/python3.7/dist-packages/keras/engine/compile_utils.py\", line 201, in __call__\n        loss_value = loss_obj(y_t, y_p, sample_weight=sw)\n    File \"/usr/local/lib/python3.7/dist-packages/keras/losses.py\", line 139, in __call__\n        losses = call_fn(y_true, y_pred)\n    File \"/usr/local/lib/python3.7/dist-packages/keras/losses.py\", line 243, in call  **\n        return ag_fn(y_true, y_pred, **self._fn_kwargs)\n    File \"/usr/local/lib/python3.7/dist-packages/keras/losses.py\", line 1788, in categorical_crossentropy\n        y_true, y_pred, from_logits=from_logits, axis=axis)\n    File \"/usr/local/lib/python3.7/dist-packages/keras/backend.py\", line 5119, in categorical_crossentropy\n        target.shape.assert_is_compatible_with(output.shape)\n\n    ValueError: Shapes (None, 1) and (None, 10) are incompatible\n"
          ]
        }
      ],
      "source": [
        "#TODO: Your code goes here. Hint: It's ok if the accuracy is not the best...\n",
        "model.fit(train_dataset, epochs=10, batch_size=10)"
      ]
    },
    {
      "cell_type": "markdown",
      "metadata": {
        "id": "ZMw_u7qsFWCf"
      },
      "source": [
        "## Task 2: A Convolutional Neural Network\n",
        "CNNs perform notoriously well on image classification tasks, so we will study a simple implementation of this network and let you guys compete to see who finds the best architecture. "
      ]
    },
    {
      "cell_type": "markdown",
      "metadata": {
        "id": "OScsuOosFzqP"
      },
      "source": [
        "### Part A: Vanilla CNN\n",
        "Build, compile, and fit a CNN with the following network structure:\n",
        "* A total of 3 convolutional segments consisting of:\n",
        "  - A convolutional layer with \"valid\" padding and Relu activation and your choice of kernel size, number of filters and strides,\n",
        "  - An average pooling layer,\n",
        "* Then a fully connected layer with 128 neurons with ReLu activations.\n",
        "* Then a fully connected layer with 64 neurons and ReLu activations.\n",
        "* And ending with a softmax output layer.\n",
        "\n"
      ]
    },
    {
      "cell_type": "code",
      "execution_count": 54,
      "metadata": {
        "id": "gsWa-EPcHewF",
        "colab": {
          "base_uri": "https://localhost:8080/"
        },
        "outputId": "9f641d15-35a2-4027-e85f-32a68f5afc92"
      },
      "outputs": [
        {
          "output_type": "stream",
          "name": "stdout",
          "text": [
            "Epoch 1/10\n",
            "223/223 [==============================] - 6s 21ms/step - loss: 0.0000e+00 - accuracy: 0.0233\n",
            "Epoch 2/10\n",
            "223/223 [==============================] - 3s 12ms/step - loss: 0.0000e+00 - accuracy: 0.0233\n",
            "Epoch 3/10\n",
            "223/223 [==============================] - 3s 12ms/step - loss: 0.0000e+00 - accuracy: 0.0233\n",
            "Epoch 4/10\n",
            "223/223 [==============================] - 3s 12ms/step - loss: 0.0000e+00 - accuracy: 0.0233\n",
            "Epoch 5/10\n",
            "223/223 [==============================] - 3s 12ms/step - loss: 0.0000e+00 - accuracy: 0.0233\n",
            "Epoch 6/10\n",
            "223/223 [==============================] - 3s 12ms/step - loss: 0.0000e+00 - accuracy: 0.0233\n",
            "Epoch 7/10\n",
            "223/223 [==============================] - 3s 12ms/step - loss: 0.0000e+00 - accuracy: 0.0233\n",
            "Epoch 8/10\n",
            "223/223 [==============================] - 3s 12ms/step - loss: 0.0000e+00 - accuracy: 0.0233\n",
            "Epoch 9/10\n",
            "223/223 [==============================] - 3s 12ms/step - loss: 0.0000e+00 - accuracy: 0.0233\n",
            "Epoch 10/10\n",
            "223/223 [==============================] - 3s 12ms/step - loss: 0.0000e+00 - accuracy: 0.0233\n"
          ]
        },
        {
          "output_type": "execute_result",
          "data": {
            "text/plain": [
              "<keras.callbacks.History at 0x7f2cf858ee50>"
            ]
          },
          "metadata": {},
          "execution_count": 54
        }
      ],
      "source": [
        "#TODO: Build, compile and train this network on the yoga pose training data. Maybe this one will be better...\n",
        "model = tf.keras.Sequential()\n",
        "model.add(keras.layers.Conv2D(8, (3, 3), activation='relu', strides=(3, 3), padding=\"valid\",  input_shape=(71, 71, 3)))\n",
        "model.add(tf.keras.layers.AveragePooling2D(pool_size=(1, 1)))\n",
        "model.add(tf.keras.layers.Flatten())\n",
        "model.add(tf.keras.layers.Dense(128, activation='relu'))\n",
        "model.add(tf.keras.layers.Dense(64, activation='relu'))\n",
        "model.add(tf.keras.layers.Dense(1, activation='softmax'))\n",
        "\n",
        "model.compile(loss='categorical_crossentropy', optimizer='adam', metrics=['accuracy'])\n",
        "\n",
        "model.fit(train_dataset, epochs=10)"
      ]
    },
    {
      "cell_type": "markdown",
      "metadata": {
        "id": "ImJlwhxDcm1z"
      },
      "source": [
        "### Part B: Transfer Learning\n",
        "Now we are going to steal from a state-of-the-art [Xception](https://arxiv.org/abs/1610.02357) model. Luckily, tensorflow has this directly available to us and we are going to use transfer learning to tune this SoA model to our dataset. Therefore, run the following code block to build our base Xception model:"
      ]
    },
    {
      "cell_type": "code",
      "execution_count": null,
      "metadata": {
        "id": "pItcNDoZQz2Z"
      },
      "outputs": [],
      "source": [
        "# I'll setup your base model for you.\n",
        "from tensorflow.keras.applications import Xception\n",
        "\n",
        "base_model = Xception(\n",
        "    include_top=False,\n",
        "    weights='imagenet',\n",
        "    input_shape=(71,71,3)\n",
        ")\n",
        "base_model.trainable=False"
      ]
    },
    {
      "cell_type": "markdown",
      "metadata": {
        "id": "p6pRc41Gds2J"
      },
      "source": [
        "Now create a new model with this *base_model* as our first layer followed by:\n",
        "* Global average pooling layer,\n",
        "* A Dense layer with 256 neurons and ReLu activations,\n",
        "* A 40% Dropout layer,\n",
        "* A softmax output layer.\n",
        "\n",
        "Then fit this model on 30 epochs."
      ]
    },
    {
      "cell_type": "code",
      "execution_count": null,
      "metadata": {
        "id": "qGseIBQ9efhR"
      },
      "outputs": [],
      "source": [
        "#TODO: Finish the model\n",
        "model = tf.keras.Sequential([\n",
        "    base_model,\n",
        "    #TODO: Add other layers\n",
        "])\n",
        "\n",
        "#TODO: Compile model"
      ]
    },
    {
      "cell_type": "code",
      "execution_count": null,
      "metadata": {
        "id": "TesGjF0ser0f"
      },
      "outputs": [],
      "source": [
        "#TODO: Fit the model on 30 epochs"
      ]
    },
    {
      "cell_type": "markdown",
      "metadata": {
        "id": "hrER79ZPYH_8"
      },
      "source": [
        "### Part C: Build your Own Model\n",
        "So know that you know the range of accuracies between poorly built models and state-of-the-art models like Xception, can you improve on them? Attempt to build your own deep neural network architecture and see if you can do better than the base CNN model presented above or better yet the Xception model we transfer learned. You may use any architecture or configuration you like."
      ]
    },
    {
      "cell_type": "code",
      "execution_count": null,
      "metadata": {
        "id": "532bbgSUY7EM"
      },
      "outputs": [],
      "source": [
        "#TODO: Build and train your custom model and evaluate on the test data."
      ]
    },
    {
      "cell_type": "markdown",
      "metadata": {
        "id": "8PQQIKToY53y"
      },
      "source": [
        "### Part D: Compete!\n",
        "To enter the class competition for the best model save out your model as a H5 file and upload it to your assignment repo using the following code block."
      ]
    },
    {
      "cell_type": "code",
      "execution_count": null,
      "metadata": {
        "id": "Ns7XFPYBZAFs"
      },
      "outputs": [],
      "source": [
        "#TODO: Save your tensorflow model with:\n",
        "model.save('/content/drive/MyDrive/models/yoga-cnn.h5')\n",
        "#TODO: Download your model from Google Drive and upload that saved file to your github assignment repo when you submit your assignment."
      ]
    }
  ],
  "metadata": {
    "colab": {
      "collapsed_sections": [],
      "provenance": [],
      "include_colab_link": true
    },
    "kernelspec": {
      "display_name": "Python 3",
      "language": "python",
      "name": "python3"
    },
    "language_info": {
      "codemirror_mode": {
        "name": "ipython",
        "version": 3
      },
      "file_extension": ".py",
      "mimetype": "text/x-python",
      "name": "python",
      "nbconvert_exporter": "python",
      "pygments_lexer": "ipython3",
      "version": "3.8.3"
    }
  },
  "nbformat": 4,
  "nbformat_minor": 0
}